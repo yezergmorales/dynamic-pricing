{
 "cells": [
  {
   "cell_type": "markdown",
   "metadata": {},
   "source": [
    "### **imports**"
   ]
  },
  {
   "cell_type": "code",
   "execution_count": 10,
   "metadata": {},
   "outputs": [],
   "source": [
    "import os\n",
    "import pandas as pd\n",
    "import numpy as np\n",
    "import torch\n",
    "import torch.nn as nn\n",
    "from torch.utils.data import DataLoader, TensorDataset\n",
    "from sklearn.model_selection import KFold, TimeSeriesSplit\n",
    "from sklearn.preprocessing import StandardScaler\n",
    "import matplotlib.pyplot as plt\n",
    "import datetime\n",
    "import seaborn as sns\n",
    "import plotly.graph_objects as go\n",
    "from plotly.subplots import make_subplots\n"
   ]
  },
  {
   "cell_type": "markdown",
   "metadata": {},
   "source": [
    "### **preprocessing**"
   ]
  },
  {
   "cell_type": "markdown",
   "metadata": {},
   "source": [
    "##### *pytorch model*"
   ]
  },
  {
   "cell_type": "code",
   "execution_count": 2,
   "metadata": {},
   "outputs": [],
   "source": [
    "# Neural network architecture for hotel price prediction\n",
    "# This network is designed to predict optimal hotel room prices based on various features\n",
    "# Key design choices:\n",
    "# 1. Small network (32 nodes) due to limited dataset size to prevent overfitting\n",
    "# 2. Two hidden layers to capture non-linear relationships in pricing factors\n",
    "# 3. Dropout (0.2) for regularization to improve generalization\n",
    "# 4. ReLU activation for non-linearity while avoiding vanishing gradients\n",
    "# 5. Single output node for price prediction (regression task)\n",
    "class Net(nn.Module):\n",
    "    def __init__(self, input_size):\n",
    "        super(Net, self).__init__()\n",
    "        # Smaller network since dataset appears to be relatively small (few thousand rows)\n",
    "        # First hidden layer reduced from 64 to 32 nodes\n",
    "        self.layer1 = nn.Linear(input_size, 32)\n",
    "        # Second hidden layer also reduced to 32 nodes to prevent overfitting\n",
    "        self.layer2 = nn.Linear(32, 32)\n",
    "        # Output layer remains 1 node for price prediction\n",
    "        self.output_layer = nn.Linear(32, 1)\n",
    "        # Added dropout for regularization\n",
    "        self.dropout = nn.Dropout(0.2)\n",
    "        self.relu = nn.ReLU()\n",
    "\n",
    "    def forward(self, x):\n",
    "        x = self.dropout(self.relu(self.layer1(x)))\n",
    "        x = self.dropout(self.relu(self.layer2(x)))\n",
    "        x = self.output_layer(x)\n",
    "        return x"
   ]
  },
  {
   "cell_type": "markdown",
   "metadata": {},
   "source": [
    "##### *generate synthetic data*"
   ]
  },
  {
   "cell_type": "code",
   "execution_count": 3,
   "metadata": {},
   "outputs": [
    {
     "name": "stdout",
     "output_type": "stream",
     "text": [
      "(65700, 6)\n"
     ]
    },
    {
     "data": {
      "text/html": [
       "<div>\n",
       "<style scoped>\n",
       "    .dataframe tbody tr th:only-of-type {\n",
       "        vertical-align: middle;\n",
       "    }\n",
       "\n",
       "    .dataframe tbody tr th {\n",
       "        vertical-align: top;\n",
       "    }\n",
       "\n",
       "    .dataframe thead th {\n",
       "        text-align: right;\n",
       "    }\n",
       "</style>\n",
       "<table border=\"1\" class=\"dataframe\">\n",
       "  <thead>\n",
       "    <tr style=\"text-align: right;\">\n",
       "      <th></th>\n",
       "      <th>booking_date</th>\n",
       "      <th>check_in_date</th>\n",
       "      <th>lead_time</th>\n",
       "      <th>price</th>\n",
       "      <th>bookings</th>\n",
       "      <th>available_rooms</th>\n",
       "    </tr>\n",
       "  </thead>\n",
       "  <tbody>\n",
       "    <tr>\n",
       "      <th>0</th>\n",
       "      <td>2020-11-03</td>\n",
       "      <td>2021-01-01</td>\n",
       "      <td>59</td>\n",
       "      <td>185.162291</td>\n",
       "      <td>40</td>\n",
       "      <td>100</td>\n",
       "    </tr>\n",
       "    <tr>\n",
       "      <th>1</th>\n",
       "      <td>2020-11-04</td>\n",
       "      <td>2021-01-01</td>\n",
       "      <td>58</td>\n",
       "      <td>124.908402</td>\n",
       "      <td>60</td>\n",
       "      <td>60</td>\n",
       "    </tr>\n",
       "    <tr>\n",
       "      <th>2</th>\n",
       "      <td>2020-11-04</td>\n",
       "      <td>2021-01-02</td>\n",
       "      <td>59</td>\n",
       "      <td>208.159654</td>\n",
       "      <td>34</td>\n",
       "      <td>100</td>\n",
       "    </tr>\n",
       "    <tr>\n",
       "      <th>3</th>\n",
       "      <td>2020-11-05</td>\n",
       "      <td>2021-01-01</td>\n",
       "      <td>57</td>\n",
       "      <td>133.229533</td>\n",
       "      <td>0</td>\n",
       "      <td>0</td>\n",
       "    </tr>\n",
       "    <tr>\n",
       "      <th>4</th>\n",
       "      <td>2020-11-05</td>\n",
       "      <td>2021-01-02</td>\n",
       "      <td>58</td>\n",
       "      <td>142.258405</td>\n",
       "      <td>66</td>\n",
       "      <td>66</td>\n",
       "    </tr>\n",
       "  </tbody>\n",
       "</table>\n",
       "</div>"
      ],
      "text/plain": [
       "  booking_date check_in_date  lead_time       price  bookings  available_rooms\n",
       "0   2020-11-03    2021-01-01         59  185.162291        40              100\n",
       "1   2020-11-04    2021-01-01         58  124.908402        60               60\n",
       "2   2020-11-04    2021-01-02         59  208.159654        34              100\n",
       "3   2020-11-05    2021-01-01         57  133.229533         0                0\n",
       "4   2020-11-05    2021-01-02         58  142.258405        66               66"
      ]
     },
     "execution_count": 3,
     "metadata": {},
     "output_type": "execute_result"
    }
   ],
   "source": [
    "def generate_hotel_data(\n",
    "        num_days=365 * 3,\n",
    "        total_rooms=100,\n",
    "        start_date=datetime.date(2021, 1, 1),\n",
    "        max_lead_time=60):\n",
    "    \"\"\"\n",
    "    Generates more realistic synthetic hotel booking data with a wider price\n",
    "    distribution and more sensitive demand.\n",
    "    \"\"\"\n",
    "    dates = [start_date + datetime.timedelta(days=i) for i in range(num_days)]\n",
    "    data = []\n",
    "\n",
    "    # Simulate a daily base price trend to represent market fluctuations\n",
    "    daily_base_prices = {}\n",
    "    for check_in_date in dates:\n",
    "        # Sinusoidal wave for annual seasonality + some noise\n",
    "        market_seasonality = np.sin(2 * np.pi * check_in_date.timetuple().tm_yday / 365.25)\n",
    "        base_price = 150 + 30 * market_seasonality\n",
    "        base_price *= np.random.uniform(0.95, 1.05)  # Daily noise\n",
    "        daily_base_prices[check_in_date] = base_price\n",
    "\n",
    "    for check_in_date in dates:\n",
    "        # Simulate bookings made on different days for the same check_in_date\n",
    "        # Lead time: from 0 (same-day) to 60 days in advance\n",
    "        for lead_time_days in range(max_lead_time):\n",
    "            booking_date = check_in_date - datetime.timedelta(days=lead_time_days)\n",
    "\n",
    "            # Start with the daily base price\n",
    "            price = daily_base_prices[check_in_date]\n",
    "\n",
    "            # Price seasonality (weekends and summer are more expensive)\n",
    "            if check_in_date.weekday() >= 4:  # Friday, Saturday, Sunday\n",
    "                price *= 1.25\n",
    "            if 6 <= check_in_date.month <= 8:  # Summer months\n",
    "                price *= 1.4\n",
    "\n",
    "            # Add lead time adjustment: prices are slightly lower for bookings made further in advance.\n",
    "            price *= 1 - 0.15 * (lead_time_days / (max_lead_time - 1.0))\n",
    "\n",
    "            # Add significant random price fluctuation for each booking instance\n",
    "            # to ensure the model sees a wide range of prices.\n",
    "            price *= np.random.uniform(0.7, 1.5)\n",
    "            price = max(70, price)  # Set a minimum realistic price\n",
    "\n",
    "            # Demand is a function of price (higher price, lower demand)\n",
    "            # and other factors (e.g. seasonality)\n",
    "            base_demand = 45  # Increased base demand\n",
    "            if check_in_date.weekday() >= 4:\n",
    "                base_demand *= 1.8  # Increased weekend effect\n",
    "            if 6 <= check_in_date.month <= 8:\n",
    "                base_demand *= 1.6  # Increased summer effect\n",
    "\n",
    "            # Modified lead time factor to increase bookings closer to check-in date\n",
    "            # Using an exponential decay function that decreases with lead time\n",
    "            lead_time_demand_factor = np.exp(-lead_time_days / 15)  # Steeper decay for early bookings\n",
    "            base_demand *= (1 + 2.0 * lead_time_demand_factor)  # Boost demand more for shorter lead times\n",
    "\n",
    "            # A more sensitive demand function, as requested\n",
    "            price_sensitivity = 1.2  # Increased sensitivity\n",
    "            reference_price = 120  # A lower reference price where demand is high\n",
    "            demand_at_price = base_demand * np.exp(-price_sensitivity * (price - reference_price) / reference_price)\n",
    "            demand_at_price = max(0, demand_at_price)\n",
    "\n",
    "            # Simulate number of bookings based on demand\n",
    "            # Add some noise\n",
    "            bookings = int(np.random.poisson(demand_at_price))\n",
    "\n",
    "            # For simplicity, we assume we can observe the \"intended\" number of bookings for a price\n",
    "            # In a real scenario, this would be capped by available rooms.\n",
    "            # The model's task is to learn this latent demand function.\n",
    "            lead_time_days = check_in_date - booking_date\n",
    "            lead_time_days = lead_time_days.days\n",
    "\n",
    "            data.append(\n",
    "                {\n",
    "                    \"booking_date\": booking_date,\n",
    "                    \"check_in_date\": check_in_date,\n",
    "                    \"lead_time\": lead_time_days,\n",
    "                    \"price\": price,\n",
    "                    \"bookings\": bookings,\n",
    "                }\n",
    "            )\n",
    "\n",
    "    df = pd.DataFrame(data)\n",
    "\n",
    "    # Calculate available rooms on booking date\n",
    "    # This is a simplification. A real calculation would be more complex.\n",
    "    df = df.sort_values(by=[\"booking_date\", \"check_in_date\"]).reset_index(drop=True)\n",
    "    df[\"total_booked_for_check_in\"] = df.groupby(\"check_in_date\")[\"bookings\"].cumsum()\n",
    "    df[\"available_rooms\"] = total_rooms - (df[\"total_booked_for_check_in\"] - df[\"bookings\"])\n",
    "    df.loc[df[\"available_rooms\"] < 0, \"available_rooms\"] = 0\n",
    "\n",
    "    # Cap bookings by available rooms\n",
    "    df[\"bookings\"] = df.apply(lambda row: min(row[\"bookings\"], row[\"available_rooms\"]), axis=1)\n",
    "\n",
    "    return df.drop(columns=[\"total_booked_for_check_in\"])\n",
    "\n",
    "total_rooms=100\n",
    "max_lead_time=60\n",
    "df = generate_hotel_data(total_rooms=total_rooms, max_lead_time=max_lead_time)\n",
    "print(df.shape)\n",
    "df.head()"
   ]
  },
  {
   "cell_type": "code",
   "execution_count": 4,
   "metadata": {},
   "outputs": [
    {
     "data": {
      "image/png": "[encoded data removed]",
      "text/plain": [
       "<Figure size 1400x700 with 1 Axes>"
      ]
     },
     "metadata": {},
     "output_type": "display_data"
    }
   ],
   "source": [
    "# Now, let's create a plot to visualize how the average price changes with the lead time.\n",
    "# A line plot is a good choice here as it can show the trend clearly.\n",
    "plt.figure(figsize=(14, 7))\n",
    "sns.lineplot(data=df, x=\"lead_time\", y=\"price\", errorbar=(\"ci\", 95))\n",
    "\n",
    "plt.title(\"Average Price Variation by Lead Time\", fontsize=16)\n",
    "plt.xlabel(\"Lead Time (days before check-in)\", fontsize=12)\n",
    "plt.ylabel(\"Average Price\", fontsize=12)\n",
    "plt.grid(True, which=\"both\", linestyle=\"--\", linewidth=0.5)\n",
    "\n",
    "# It's often intuitive to see time progressing from left to right.\n",
    "# By inverting the x-axis, we can see the pricing strategy as the check-in date approaches.\n",
    "plt.gca().invert_xaxis()\n",
    "\n",
    "plt.show()\n"
   ]
  },
  {
   "cell_type": "code",
   "execution_count": 74,
   "metadata": {},
   "outputs": [
    {
     "data": {
      "image/png": "[encoded data removed]",
      "text/plain": [
       "<Figure size 1400x700 with 1 Axes>"
      ]
     },
     "metadata": {},
     "output_type": "display_data"
    }
   ],
   "source": [
    "# Let's also visualize how the number of bookings changes with the lead time.\n",
    "# This can give us insights into booking patterns.\n",
    "plt.figure(figsize=(14, 7))\n",
    "sns.lineplot(data=df, x=\"lead_time\", y=\"bookings\", errorbar=(\"ci\", 95))\n",
    "\n",
    "plt.title(\"Number of Bookings vs. Lead Time\", fontsize=16)\n",
    "plt.xlabel(\"Lead Time (days before check-in)\", fontsize=12)\n",
    "plt.ylabel(\"Number of Bookings\", fontsize=12)\n",
    "plt.grid(True, which=\"both\", linestyle=\"--\", linewidth=0.5)\n",
    "\n",
    "# Inverting the x-axis to see the trend as the check-in date approaches.\n",
    "plt.gca().invert_xaxis()\n",
    "\n",
    "plt.show()\n"
   ]
  },
  {
   "cell_type": "markdown",
   "metadata": {},
   "source": [
    "##### *feature engineering*"
   ]
  },
  {
   "cell_type": "code",
   "execution_count": 8,
   "metadata": {},
   "outputs": [
    {
     "data": {
      "text/html": [
       "<div>\n",
       "<style scoped>\n",
       "    .dataframe tbody tr th:only-of-type {\n",
       "        vertical-align: middle;\n",
       "    }\n",
       "\n",
       "    .dataframe tbody tr th {\n",
       "        vertical-align: top;\n",
       "    }\n",
       "\n",
       "    .dataframe thead th {\n",
       "        text-align: right;\n",
       "    }\n",
       "</style>\n",
       "<table border=\"1\" class=\"dataframe\">\n",
       "  <thead>\n",
       "    <tr style=\"text-align: right;\">\n",
       "      <th></th>\n",
       "      <th>booking_date</th>\n",
       "      <th>check_in_date</th>\n",
       "      <th>lead_time</th>\n",
       "      <th>price</th>\n",
       "      <th>bookings</th>\n",
       "      <th>available_rooms</th>\n",
       "      <th>check_in_day_sin</th>\n",
       "      <th>check_in_day_cos</th>\n",
       "      <th>check_in_month_sin</th>\n",
       "      <th>check_in_month_cos</th>\n",
       "      <th>time_index</th>\n",
       "    </tr>\n",
       "  </thead>\n",
       "  <tbody>\n",
       "    <tr>\n",
       "      <th>65171</th>\n",
       "      <td>2023-11-29</td>\n",
       "      <td>2023-12-31</td>\n",
       "      <td>32</td>\n",
       "      <td>139.443091</td>\n",
       "      <td>0</td>\n",
       "      <td>0</td>\n",
       "      <td>-0.781831</td>\n",
       "      <td>0.62349</td>\n",
       "      <td>-2.449294e-16</td>\n",
       "      <td>1.0</td>\n",
       "      <td>1094</td>\n",
       "    </tr>\n",
       "    <tr>\n",
       "      <th>65633</th>\n",
       "      <td>2023-12-20</td>\n",
       "      <td>2023-12-31</td>\n",
       "      <td>11</td>\n",
       "      <td>196.450856</td>\n",
       "      <td>0</td>\n",
       "      <td>0</td>\n",
       "      <td>-0.781831</td>\n",
       "      <td>0.62349</td>\n",
       "      <td>-2.449294e-16</td>\n",
       "      <td>1.0</td>\n",
       "      <td>1094</td>\n",
       "    </tr>\n",
       "    <tr>\n",
       "      <th>65203</th>\n",
       "      <td>2023-11-30</td>\n",
       "      <td>2023-12-31</td>\n",
       "      <td>31</td>\n",
       "      <td>251.863784</td>\n",
       "      <td>0</td>\n",
       "      <td>0</td>\n",
       "      <td>-0.781831</td>\n",
       "      <td>0.62349</td>\n",
       "      <td>-2.449294e-16</td>\n",
       "      <td>1.0</td>\n",
       "      <td>1094</td>\n",
       "    </tr>\n",
       "    <tr>\n",
       "      <th>65644</th>\n",
       "      <td>2023-12-21</td>\n",
       "      <td>2023-12-31</td>\n",
       "      <td>10</td>\n",
       "      <td>216.596730</td>\n",
       "      <td>0</td>\n",
       "      <td>0</td>\n",
       "      <td>-0.781831</td>\n",
       "      <td>0.62349</td>\n",
       "      <td>-2.449294e-16</td>\n",
       "      <td>1.0</td>\n",
       "      <td>1094</td>\n",
       "    </tr>\n",
       "    <tr>\n",
       "      <th>65699</th>\n",
       "      <td>2023-12-31</td>\n",
       "      <td>2023-12-31</td>\n",
       "      <td>0</td>\n",
       "      <td>241.944727</td>\n",
       "      <td>0</td>\n",
       "      <td>0</td>\n",
       "      <td>-0.781831</td>\n",
       "      <td>0.62349</td>\n",
       "      <td>-2.449294e-16</td>\n",
       "      <td>1.0</td>\n",
       "      <td>1094</td>\n",
       "    </tr>\n",
       "  </tbody>\n",
       "</table>\n",
       "</div>"
      ],
      "text/plain": [
       "      booking_date check_in_date  lead_time       price  bookings  \\\n",
       "65171   2023-11-29    2023-12-31         32  139.443091         0   \n",
       "65633   2023-12-20    2023-12-31         11  196.450856         0   \n",
       "65203   2023-11-30    2023-12-31         31  251.863784         0   \n",
       "65644   2023-12-21    2023-12-31         10  216.596730         0   \n",
       "65699   2023-12-31    2023-12-31          0  241.944727         0   \n",
       "\n",
       "       available_rooms  check_in_day_sin  check_in_day_cos  \\\n",
       "65171                0         -0.781831           0.62349   \n",
       "65633                0         -0.781831           0.62349   \n",
       "65203                0         -0.781831           0.62349   \n",
       "65644                0         -0.781831           0.62349   \n",
       "65699                0         -0.781831           0.62349   \n",
       "\n",
       "       check_in_month_sin  check_in_month_cos  time_index  \n",
       "65171       -2.449294e-16                 1.0        1094  \n",
       "65633       -2.449294e-16                 1.0        1094  \n",
       "65203       -2.449294e-16                 1.0        1094  \n",
       "65644       -2.449294e-16                 1.0        1094  \n",
       "65699       -2.449294e-16                 1.0        1094  "
      ]
     },
     "execution_count": 8,
     "metadata": {},
     "output_type": "execute_result"
    }
   ],
   "source": [
    "def feature_engineering(df):\n",
    "    \"\"\"\n",
    "    Creates features from the raw data.\n",
    "    \"\"\"\n",
    "    df[\"booking_date\"] = pd.to_datetime(df[\"booking_date\"])\n",
    "    df[\"check_in_date\"] = pd.to_datetime(df[\"check_in_date\"])\n",
    "    # Transform day of week to circular features to capture cyclical nature\n",
    "    df[\"check_in_day_sin\"] = np.sin(2 * np.pi * df[\"check_in_date\"].dt.dayofweek / 7)\n",
    "    df[\"check_in_day_cos\"] = np.cos(2 * np.pi * df[\"check_in_date\"].dt.dayofweek / 7)\n",
    "    \n",
    "    # Transform month to circular features to capture cyclical nature\n",
    "    df[\"check_in_month_sin\"] = np.sin(2 * np.pi * df[\"check_in_date\"].dt.month / 12)\n",
    "    df[\"check_in_month_cos\"] = np.cos(2 * np.pi * df[\"check_in_date\"].dt.month / 12)\n",
    "    \n",
    "    # Add time index based on unique check-in dates\n",
    "    # Sort by check-in date and create mapping of unique dates to indices\n",
    "    unique_dates = df['check_in_date'].unique()\n",
    "    unique_dates = np.sort(unique_dates)\n",
    "    date_to_index = {date: idx for idx, date in enumerate(unique_dates)}\n",
    "    \n",
    "    # Map each check-in date to its index\n",
    "    df['time_index'] = df['check_in_date'].map(date_to_index)\n",
    "\n",
    "    return df\n",
    "\n",
    "df = feature_engineering(df)\n",
    "df.tail()"
   ]
  },
  {
   "cell_type": "markdown",
   "metadata": {},
   "source": [
    "### **training**"
   ]
  },
  {
   "cell_type": "markdown",
   "metadata": {},
   "source": [
    "##### cross validation"
   ]
  },
  {
   "cell_type": "markdown",
   "metadata": {},
   "source": [
    "A Practical Note for Your Large Dataset\n",
    "With millions of data points, performing full timeSeriesFold cross-validation is extremely computationally expensive. For each of the 'k' folds, you have to retrain your neural network from scratch.\n"
   ]
  },
  {
   "cell_type": "code",
   "execution_count": 13,
   "metadata": {},
   "outputs": [
    {
     "name": "stdout",
     "output_type": "stream",
     "text": [
      "--- Using device: cpu ---\n",
      "\n",
      "=== Testing configuration: {'lr': 0.001, 'weight_decay': 0.0, 'patience': 10, 'batch_size': 256, 'epochs': 100} ===\n",
      "\n",
      "--- Fold 1/4 ---\n",
      "Train size: 32850, Test size: 8212\n",
      "Train percentage: 50.0%, Test percentage: 12.5%\n",
      "Early stopping at epoch 70\n"
     ]
    },
    {
     "data": {
      "image/png": "[encoded data removed]",
      "text/plain": [
       "<Figure size 1000x600 with 1 Axes>"
      ]
     },
     "metadata": {},
     "output_type": "display_data"
    },
    {
     "name": "stdout",
     "output_type": "stream",
     "text": [
      "Fold 1 Loss (MSE): 3.4735\n",
      "\n",
      "--- Fold 2/4 ---\n",
      "Train size: 41062, Test size: 8212\n",
      "Train percentage: 62.5%, Test percentage: 12.5%\n",
      "Early stopping at epoch 40\n"
     ]
    },
    {
     "data": {
      "image/png": "[encoded data removed]",
      "text/plain": [
       "<Figure size 1000x600 with 1 Axes>"
      ]
     },
     "metadata": {},
     "output_type": "display_data"
    },
    {
     "name": "stdout",
     "output_type": "stream",
     "text": [
      "Fold 2 Loss (MSE): 2.2117\n",
      "\n",
      "--- Fold 3/4 ---\n",
      "Train size: 49275, Test size: 8212\n",
      "Train percentage: 75.0%, Test percentage: 12.5%\n",
      "Early stopping at epoch 75\n"
     ]
    },
    {
     "data": {
      "image/png": "[encoded data removed]",
      "text/plain": [
       "<Figure size 1000x600 with 1 Axes>"
      ]
     },
     "metadata": {},
     "output_type": "display_data"
    },
    {
     "name": "stdout",
     "output_type": "stream",
     "text": [
      "Fold 3 Loss (MSE): 2.9199\n",
      "\n",
      "--- Fold 4/4 ---\n",
      "Train size: 57487, Test size: 8212\n",
      "Train percentage: 87.5%, Test percentage: 12.5%\n",
      "Early stopping at epoch 80\n"
     ]
    },
    {
     "data": {
      "image/png": "[encoded data removed]",
      "text/plain": [
       "<Figure size 1000x600 with 1 Axes>"
      ]
     },
     "metadata": {},
     "output_type": "display_data"
    },
    {
     "name": "stdout",
     "output_type": "stream",
     "text": [
      "Fold 4 Loss (MSE): 2.8398\n",
      "\n",
      "--- Configuration Summary ---\n",
      "Average Loss (MSE): 2.8612\n",
      "Standard Deviation: 0.4474\n",
      "\n",
      "=== Final Results ===\n",
      "Best configuration: {'lr': 0.001, 'weight_decay': 0.0, 'patience': 10, 'batch_size': 256, 'epochs': 100}\n",
      "Best average MSE: 2.8612\n",
      "Final Average Loss: 2.8612\n",
      "Final Standard Deviation: 0.4474\n"
     ]
    }
   ],
   "source": [
    "#vars\n",
    "features = [\n",
    "    \"price\",\n",
    "    \"lead_time\", \n",
    "    \"check_in_day_sin\",\n",
    "    \"check_in_day_cos\",\n",
    "    \"check_in_month_sin\",\n",
    "    \"check_in_month_cos\",\n",
    "    \"time_index\",\n",
    "    \"available_rooms\",\n",
    "]\n",
    "target = \"bookings\"\n",
    "n_splits = 4\n",
    "\n",
    "# Hyperparameter configurations to try\n",
    "configs = [\n",
    "    # Start with a baseline configuration with moderate patience\n",
    "    {'lr': 0.001, 'weight_decay': 0.0, 'patience': 10, 'batch_size': 256, 'epochs': 100},\n",
    "    \n",
    "    # # Try longer patience to ensure we're not stopping too early\n",
    "    # {'lr': 0.001, 'weight_decay': 0.01, 'patience': 15, 'batch_size': 256, 'epochs': 100},\n",
    "    \n",
    "    # # Test very patient stopping to catch slow convergence\n",
    "    # {'lr': 0.001, 'weight_decay': 0.001, 'patience': 20, 'batch_size': 256, 'epochs': 100},\n",
    "]\n",
    "\n",
    "# --- PyTorch Setup ---\n",
    "device = torch.device(\"cuda\" if torch.cuda.is_available() else \"cpu\")\n",
    "print(f\"--- Using device: {device} ---\")\n",
    "\n",
    "# Define features and target\n",
    "X = df[features].values\n",
    "y = df[target].values.reshape(-1, 1)  # Reshape for PyTorch loss function\n",
    "\n",
    "# --- Custom TimeSeriesSplit Cross-Validation for each configuration ---\n",
    "# Custom splits: Fold1(50% train, 12.5% test), Fold2(62.5% train, 12.5% test), etc.\n",
    "def create_custom_time_series_splits(X, n_splits=4):\n",
    "    \"\"\"\n",
    "    Creates custom time series splits:\n",
    "    - Fold 1: 50% train, 12.5% test\n",
    "    - Fold 2: 62.5% train, 12.5% test  \n",
    "    - Fold 3: 75% train, 12.5% test\n",
    "    - Fold 4: 87.5% train, 12.5% test\n",
    "    \"\"\"\n",
    "    n_samples = len(X)\n",
    "    test_size = int(n_samples * 0.125)  # 12.5% for test\n",
    "    \n",
    "    splits = []\n",
    "    for i in range(n_splits):\n",
    "        # Calculate train size: 50% + i * 12.5%\n",
    "        train_ratio = 0.5 + i * 0.125\n",
    "        train_size = int(n_samples * train_ratio)\n",
    "        \n",
    "        # Train indices: from start to train_size\n",
    "        train_index = np.arange(0, train_size)\n",
    "        \n",
    "        # Test indices: from train_size to train_size + test_size\n",
    "        test_start = train_size\n",
    "        test_end = train_size + test_size\n",
    "        test_index = np.arange(test_start, test_end)\n",
    "        \n",
    "        splits.append((train_index, test_index))\n",
    "    \n",
    "    return splits\n",
    "\n",
    "# Create custom splits\n",
    "custom_splits = create_custom_time_series_splits(X, n_splits=n_splits)\n",
    "\n",
    "best_config = None\n",
    "best_score = float('inf')\n",
    "\n",
    "for config in configs:\n",
    "    print(f\"\\n=== Testing configuration: {config} ===\")\n",
    "    all_scores = []\n",
    "    \n",
    "    for i, (train_index, test_index) in enumerate(custom_splits):\n",
    "        print(f\"\\n--- Fold {i+1}/{n_splits} ---\")\n",
    "        print(f\"Train size: {len(train_index)}, Test size: {len(test_index)}\")\n",
    "        print(f\"Train percentage: {len(train_index)/len(X)*100:.1f}%, Test percentage: {len(test_index)/len(X)*100:.1f}%\")\n",
    "        \n",
    "        X_train, X_test = X[train_index], X[test_index]\n",
    "        y_train, y_test = y[train_index], y[test_index]\n",
    "\n",
    "        # Scale features for this fold\n",
    "        scaler = StandardScaler()\n",
    "        X_train_scaled = scaler.fit_transform(X_train)\n",
    "        X_test_scaled = scaler.transform(X_test)\n",
    "\n",
    "        # Convert to PyTorch Tensors\n",
    "        X_train_tensor = torch.tensor(X_train_scaled, dtype=torch.float32)\n",
    "        y_train_tensor = torch.tensor(y_train, dtype=torch.float32)\n",
    "        X_test_tensor = torch.tensor(X_test_scaled, dtype=torch.float32)\n",
    "        y_test_tensor = torch.tensor(y_test, dtype=torch.float32)\n",
    "\n",
    "        # Create DataLoader\n",
    "        train_dataset = TensorDataset(X_train_tensor, y_train_tensor)\n",
    "        train_loader = DataLoader(train_dataset, batch_size=256, shuffle=True)\n",
    "\n",
    "        # Build a new model for each fold\n",
    "        model = Net(input_size=len(features)).to(device)\n",
    "        criterion = nn.MSELoss()\n",
    "        optimizer = torch.optim.Adam(\n",
    "            model.parameters(), \n",
    "            lr=config['lr'],\n",
    "            weight_decay=config['weight_decay']\n",
    "        )\n",
    "\n",
    "        # Early stopping setup\n",
    "        best_val_loss = float('inf')\n",
    "        patience_counter = 0\n",
    "        \n",
    "        # Lists to store training and validation losses for plotting\n",
    "        train_losses = []\n",
    "        val_losses = []\n",
    "        \n",
    "        # print(\"Training the model for evaluation...\")\n",
    "        model.train()\n",
    "        for epoch in range(100):  # Increased max epochs, will stop early if needed\n",
    "            epoch_loss = 0\n",
    "            num_batches = len(train_loader)\n",
    "            \n",
    "            for batch_X, batch_y in train_loader:\n",
    "                batch_X, batch_y = batch_X.to(device), batch_y.to(device)\n",
    "\n",
    "                # Forward pass\n",
    "                outputs = model(batch_X)\n",
    "                loss = criterion(outputs, batch_y)\n",
    "                epoch_loss += loss.item()\n",
    "\n",
    "                # Backward and optimize\n",
    "                optimizer.zero_grad()\n",
    "                loss.backward()\n",
    "                optimizer.step()\n",
    "\n",
    "            # Calculate average training loss for this epoch\n",
    "            avg_train_loss = epoch_loss / num_batches\n",
    "            train_losses.append(avg_train_loss)\n",
    "\n",
    "            # Validation phase\n",
    "            model.eval()\n",
    "            with torch.no_grad():\n",
    "                X_test_tensor = X_test_tensor.to(device)\n",
    "                y_test_tensor = y_test_tensor.to(device)\n",
    "                val_predictions = model(X_test_tensor)\n",
    "                val_loss = criterion(val_predictions, y_test_tensor).item()\n",
    "                val_losses.append(val_loss)\n",
    "            \n",
    "            # Early stopping check\n",
    "            if val_loss < best_val_loss:\n",
    "                best_val_loss = val_loss\n",
    "                patience_counter = 0\n",
    "            else:\n",
    "                patience_counter += 1\n",
    "                \n",
    "            if patience_counter >= config['patience']:\n",
    "                print(f\"Early stopping at epoch {epoch}\")\n",
    "                break\n",
    "                \n",
    "            model.train()\n",
    "\n",
    "        # Plot training and validation curves for this fold\n",
    "        plt.figure(figsize=(10, 6))\n",
    "        epochs_range = range(1, len(train_losses) + 1)\n",
    "        plt.plot(epochs_range, train_losses, 'b-', label='Training Loss', linewidth=2)\n",
    "        plt.plot(epochs_range, val_losses, 'r-', label='Validation Loss', linewidth=2)\n",
    "        plt.xlabel('Epoch')\n",
    "        plt.ylabel('MSE Loss')\n",
    "        plt.title(f'Training vs Validation Loss - Fold {i+1}')\n",
    "        plt.legend()\n",
    "        plt.grid(True, alpha=0.3)\n",
    "        plt.tight_layout()\n",
    "        plt.show()\n",
    "\n",
    "        print(f\"Fold {i+1} Loss (MSE): {best_val_loss:.4f}\")\n",
    "        all_scores.append(best_val_loss)\n",
    "\n",
    "    avg_score = np.mean(all_scores)\n",
    "    std_score = np.std(all_scores)\n",
    "    print(\"\\n--- Configuration Summary ---\")\n",
    "    print(f\"Average Loss (MSE): {avg_score:.4f}\")\n",
    "    print(f\"Standard Deviation: {std_score:.4f}\")\n",
    "    \n",
    "    if avg_score < best_score:\n",
    "        best_score = avg_score\n",
    "        best_config = config\n",
    "\n",
    "print(\"\\n=== Final Results ===\")\n",
    "print(f\"Best configuration: {best_config}\")\n",
    "print(f\"Best average MSE: {best_score:.4f}\")\n",
    "print(f\"Final Average Loss: {best_score:.4f}\")\n",
    "print(f\"Final Standard Deviation: {std_score:.4f}\")"
   ]
  },
  {
   "cell_type": "markdown",
   "metadata": {},
   "source": [
    "##### training the best model over the whole dataset"
   ]
  },
  {
   "cell_type": "code",
   "execution_count": 14,
   "metadata": {},
   "outputs": [],
   "source": [
    "best_config = {\"lr\": 0.001, \"weight_decay\": 0.0, \"patience\": 10, \"batch_size\": 256, \"epochs\": 100}\n"
   ]
  },
  {
   "cell_type": "code",
   "execution_count": 15,
   "metadata": {},
   "outputs": [
    {
     "name": "stdout",
     "output_type": "stream",
     "text": [
      "\n",
      "--- Training Final Model on Entire Dataset ---\n",
      "Epoch [10/100], Loss (MSE): 5.6292\n",
      "Epoch [20/100], Loss (MSE): 5.0731\n",
      "Epoch [30/100], Loss (MSE): 4.6582\n",
      "Epoch [40/100], Loss (MSE): 4.4883\n",
      "Epoch [50/100], Loss (MSE): 4.3868\n",
      "Early stopping at epoch 51\n"
     ]
    },
    {
     "data": {
      "application/vnd.plotly.v1+json": {
       "config": {
        "plotlyServerURL": "https://plot.ly"
       },
       "data": [
        {
         "mode": "lines",
         "name": "Training Loss",
         "type": "scatter",
         "x": [
          1,
          2,
          3,
          4,
          5,
          6,
          7,
          8,
          9,
          10,
          11,
          12,
          13,
          14,
          15,
          16,
          17,
          18,
          19,
          20,
          21,
          22,
          23,
          24,
          25,
          26,
          27,
          28,
          29,
          30,
          31,
          32,
          33,
          34,
          35,
          36,
          37,
          38,
          39,
          40,
          41,
          42,
          43,
          44,
          45,
          46,
          47,
          48,
          49,
          50,
          51
         ],
         "y": [
          39.819610303478015,
          11.498482537872597,
          9.214137548602508,
          8.115670344940883,
          6.988532784384049,
          6.814556445361111,
          6.207365989221209,
          5.809912760549946,
          5.773610909393326,
          5.62920866518169,
          5.434797813224422,
          5.3996706827605285,
          5.313286121485298,
          5.6216418446269945,
          5.280282241825,
          5.092293254480288,
          5.00859274706488,
          5.033595837507731,
          5.12378594859101,
          5.073062742846485,
          4.980648724485464,
          5.001087420645391,
          4.9990163517369375,
          4.946710453249137,
          4.910713332172498,
          4.745233062988126,
          4.669442452577301,
          4.753518574200715,
          4.6406560993612045,
          4.658150469514647,
          4.541172465925551,
          4.688521542205884,
          4.705072883386093,
          4.550264867247311,
          4.7782146606000016,
          4.3802206973157505,
          4.5630482806305945,
          4.442542760868481,
          4.425049429621678,
          4.4883065522876695,
          4.201274015966092,
          4.348464422826637,
          4.357789401878179,
          4.455159065208546,
          4.492824110887394,
          4.548940873215635,
          4.348389701504652,
          4.3536710113518895,
          4.338610173895201,
          4.386809345117339,
          4.264762942255239
         ]
        }
       ],
       "layout": {
        "height": 400,
        "showlegend": true,
        "template": {
         "data": {
          "bar": [
           {
            "error_x": {
             "color": "#2a3f5f"
            },
            "error_y": {
             "color": "#2a3f5f"
            },
            "marker": {
             "line": {
              "color": "#E5ECF6",
              "width": 0.5
             },
             "pattern": {
              "fillmode": "overlay",
              "size": 10,
              "solidity": 0.2
             }
            },
            "type": "bar"
           }
          ],
          "barpolar": [
           {
            "marker": {
             "line": {
              "color": "#E5ECF6",
              "width": 0.5
             },
             "pattern": {
              "fillmode": "overlay",
              "size": 10,
              "solidity": 0.2
             }
            },
            "type": "barpolar"
           }
          ],
          "carpet": [
           {
            "aaxis": {
             "endlinecolor": "#2a3f5f",
             "gridcolor": "white",
             "linecolor": "white",
             "minorgridcolor": "white",
             "startlinecolor": "#2a3f5f"
            },
            "baxis": {
             "endlinecolor": "#2a3f5f",
             "gridcolor": "white",
             "linecolor": "white",
             "minorgridcolor": "white",
             "startlinecolor": "#2a3f5f"
            },
            "type": "carpet"
           }
          ],
          "choropleth": [
           {
            "colorbar": {
             "outlinewidth": 0,
             "ticks": ""
            },
            "type": "choropleth"
           }
          ],
          "contour": [
           {
            "colorbar": {
             "outlinewidth": 0,
             "ticks": ""
            },
            "colorscale": [
             [
              0,
              "#0d0887"
             ],
             [
              0.1111111111111111,
              "#46039f"
             ],
             [
              0.2222222222222222,
              "#7201a8"
             ],
             [
              0.3333333333333333,
              "#9c179e"
             ],
             [
              0.4444444444444444,
              "#bd3786"
             ],
             [
              0.5555555555555556,
              "#d8576b"
             ],
             [
              0.6666666666666666,
              "#ed7953"
             ],
             [
              0.7777777777777778,
              "#fb9f3a"
             ],
             [
              0.8888888888888888,
              "#fdca26"
             ],
             [
              1,
              "#f0f921"
             ]
            ],
            "type": "contour"
           }
          ],
          "contourcarpet": [
           {
            "colorbar": {
             "outlinewidth": 0,
             "ticks": ""
            },
            "type": "contourcarpet"
           }
          ],
          "heatmap": [
           {
            "colorbar": {
             "outlinewidth": 0,
             "ticks": ""
            },
            "colorscale": [
             [
              0,
              "#0d0887"
             ],
             [
              0.1111111111111111,
              "#46039f"
             ],
             [
              0.2222222222222222,
              "#7201a8"
             ],
             [
              0.3333333333333333,
              "#9c179e"
             ],
             [
              0.4444444444444444,
              "#bd3786"
             ],
             [
              0.5555555555555556,
              "#d8576b"
             ],
             [
              0.6666666666666666,
              "#ed7953"
             ],
             [
              0.7777777777777778,
              "#fb9f3a"
             ],
             [
              0.8888888888888888,
              "#fdca26"
             ],
             [
              1,
              "#f0f921"
             ]
            ],
            "type": "heatmap"
           }
          ],
          "histogram": [
           {
            "marker": {
             "pattern": {
              "fillmode": "overlay",
              "size": 10,
              "solidity": 0.2
             }
            },
            "type": "histogram"
           }
          ],
          "histogram2d": [
           {
            "colorbar": {
             "outlinewidth": 0,
             "ticks": ""
            },
            "colorscale": [
             [
              0,
              "#0d0887"
             ],
             [
              0.1111111111111111,
              "#46039f"
             ],
             [
              0.2222222222222222,
              "#7201a8"
             ],
             [
              0.3333333333333333,
              "#9c179e"
             ],
             [
              0.4444444444444444,
              "#bd3786"
             ],
             [
              0.5555555555555556,
              "#d8576b"
             ],
             [
              0.6666666666666666,
              "#ed7953"
             ],
             [
              0.7777777777777778,
              "#fb9f3a"
             ],
             [
              0.8888888888888888,
              "#fdca26"
             ],
             [
              1,
              "#f0f921"
             ]
            ],
            "type": "histogram2d"
           }
          ],
          "histogram2dcontour": [
           {
            "colorbar": {
             "outlinewidth": 0,
             "ticks": ""
            },
            "colorscale": [
             [
              0,
              "#0d0887"
             ],
             [
              0.1111111111111111,
              "#46039f"
             ],
             [
              0.2222222222222222,
              "#7201a8"
             ],
             [
              0.3333333333333333,
              "#9c179e"
             ],
             [
              0.4444444444444444,
              "#bd3786"
             ],
             [
              0.5555555555555556,
              "#d8576b"
             ],
             [
              0.6666666666666666,
              "#ed7953"
             ],
             [
              0.7777777777777778,
              "#fb9f3a"
             ],
             [
              0.8888888888888888,
              "#fdca26"
             ],
             [
              1,
              "#f0f921"
             ]
            ],
            "type": "histogram2dcontour"
           }
          ],
          "mesh3d": [
           {
            "colorbar": {
             "outlinewidth": 0,
             "ticks": ""
            },
            "type": "mesh3d"
           }
          ],
          "parcoords": [
           {
            "line": {
             "colorbar": {
              "outlinewidth": 0,
              "ticks": ""
             }
            },
            "type": "parcoords"
           }
          ],
          "pie": [
           {
            "automargin": true,
            "type": "pie"
           }
          ],
          "scatter": [
           {
            "fillpattern": {
             "fillmode": "overlay",
             "size": 10,
             "solidity": 0.2
            },
            "type": "scatter"
           }
          ],
          "scatter3d": [
           {
            "line": {
             "colorbar": {
              "outlinewidth": 0,
              "ticks": ""
             }
            },
            "marker": {
             "colorbar": {
              "outlinewidth": 0,
              "ticks": ""
             }
            },
            "type": "scatter3d"
           }
          ],
          "scattercarpet": [
           {
            "marker": {
             "colorbar": {
              "outlinewidth": 0,
              "ticks": ""
             }
            },
            "type": "scattercarpet"
           }
          ],
          "scattergeo": [
           {
            "marker": {
             "colorbar": {
              "outlinewidth": 0,
              "ticks": ""
             }
            },
            "type": "scattergeo"
           }
          ],
          "scattergl": [
           {
            "marker": {
             "colorbar": {
              "outlinewidth": 0,
              "ticks": ""
             }
            },
            "type": "scattergl"
           }
          ],
          "scattermap": [
           {
            "marker": {
             "colorbar": {
              "outlinewidth": 0,
              "ticks": ""
             }
            },
            "type": "scattermap"
           }
          ],
          "scattermapbox": [
           {
            "marker": {
             "colorbar": {
              "outlinewidth": 0,
              "ticks": ""
             }
            },
            "type": "scattermapbox"
           }
          ],
          "scatterpolar": [
           {
            "marker": {
             "colorbar": {
              "outlinewidth": 0,
              "ticks": ""
             }
            },
            "type": "scatterpolar"
           }
          ],
          "scatterpolargl": [
           {
            "marker": {
             "colorbar": {
              "outlinewidth": 0,
              "ticks": ""
             }
            },
            "type": "scatterpolargl"
           }
          ],
          "scatterternary": [
           {
            "marker": {
             "colorbar": {
              "outlinewidth": 0,
              "ticks": ""
             }
            },
            "type": "scatterternary"
           }
          ],
          "surface": [
           {
            "colorbar": {
             "outlinewidth": 0,
             "ticks": ""
            },
            "colorscale": [
             [
              0,
              "#0d0887"
             ],
             [
              0.1111111111111111,
              "#46039f"
             ],
             [
              0.2222222222222222,
              "#7201a8"
             ],
             [
              0.3333333333333333,
              "#9c179e"
             ],
             [
              0.4444444444444444,
              "#bd3786"
             ],
             [
              0.5555555555555556,
              "#d8576b"
             ],
             [
              0.6666666666666666,
              "#ed7953"
             ],
             [
              0.7777777777777778,
              "#fb9f3a"
             ],
             [
              0.8888888888888888,
              "#fdca26"
             ],
             [
              1,
              "#f0f921"
             ]
            ],
            "type": "surface"
           }
          ],
          "table": [
           {
            "cells": {
             "fill": {
              "color": "#EBF0F8"
             },
             "line": {
              "color": "white"
             }
            },
            "header": {
             "fill": {
              "color": "#C8D4E3"
             },
             "line": {
              "color": "white"
             }
            },
            "type": "table"
           }
          ]
         },
         "layout": {
          "annotationdefaults": {
           "arrowcolor": "#2a3f5f",
           "arrowhead": 0,
           "arrowwidth": 1
          },
          "autotypenumbers": "strict",
          "coloraxis": {
           "colorbar": {
            "outlinewidth": 0,
            "ticks": ""
           }
          },
          "colorscale": {
           "diverging": [
            [
             0,
             "#8e0152"
            ],
            [
             0.1,
             "#c51b7d"
            ],
            [
             0.2,
             "#de77ae"
            ],
            [
             0.3,
             "#f1b6da"
            ],
            [
             0.4,
             "#fde0ef"
            ],
            [
             0.5,
             "#f7f7f7"
            ],
            [
             0.6,
             "#e6f5d0"
            ],
            [
             0.7,
             "#b8e186"
            ],
            [
             0.8,
             "#7fbc41"
            ],
            [
             0.9,
             "#4d9221"
            ],
            [
             1,
             "#276419"
            ]
           ],
           "sequential": [
            [
             0,
             "#0d0887"
            ],
            [
             0.1111111111111111,
             "#46039f"
            ],
            [
             0.2222222222222222,
             "#7201a8"
            ],
            [
             0.3333333333333333,
             "#9c179e"
            ],
            [
             0.4444444444444444,
             "#bd3786"
            ],
            [
             0.5555555555555556,
             "#d8576b"
            ],
            [
             0.6666666666666666,
             "#ed7953"
            ],
            [
             0.7777777777777778,
             "#fb9f3a"
            ],
            [
             0.8888888888888888,
             "#fdca26"
            ],
            [
             1,
             "#f0f921"
            ]
           ],
           "sequentialminus": [
            [
             0,
             "#0d0887"
            ],
            [
             0.1111111111111111,
             "#46039f"
            ],
            [
             0.2222222222222222,
             "#7201a8"
            ],
            [
             0.3333333333333333,
             "#9c179e"
            ],
            [
             0.4444444444444444,
             "#bd3786"
            ],
            [
             0.5555555555555556,
             "#d8576b"
            ],
            [
             0.6666666666666666,
             "#ed7953"
            ],
            [
             0.7777777777777778,
             "#fb9f3a"
            ],
            [
             0.8888888888888888,
             "#fdca26"
            ],
            [
             1,
             "#f0f921"
            ]
           ]
          },
          "colorway": [
           "#636efa",
           "#EF553B",
           "#00cc96",
           "#ab63fa",
           "#FFA15A",
           "#19d3f3",
           "#FF6692",
           "#B6E880",
           "#FF97FF",
           "#FECB52"
          ],
          "font": {
           "color": "#2a3f5f"
          },
          "geo": {
           "bgcolor": "white",
           "lakecolor": "white",
           "landcolor": "#E5ECF6",
           "showlakes": true,
           "showland": true,
           "subunitcolor": "white"
          },
          "hoverlabel": {
           "align": "left"
          },
          "hovermode": "closest",
          "mapbox": {
           "style": "light"
          },
          "paper_bgcolor": "white",
          "plot_bgcolor": "#E5ECF6",
          "polar": {
           "angularaxis": {
            "gridcolor": "white",
            "linecolor": "white",
            "ticks": ""
           },
           "bgcolor": "#E5ECF6",
           "radialaxis": {
            "gridcolor": "white",
            "linecolor": "white",
            "ticks": ""
           }
          },
          "scene": {
           "xaxis": {
            "backgroundcolor": "#E5ECF6",
            "gridcolor": "white",
            "gridwidth": 2,
            "linecolor": "white",
            "showbackground": true,
            "ticks": "",
            "zerolinecolor": "white"
           },
           "yaxis": {
            "backgroundcolor": "#E5ECF6",
            "gridcolor": "white",
            "gridwidth": 2,
            "linecolor": "white",
            "showbackground": true,
            "ticks": "",
            "zerolinecolor": "white"
           },
           "zaxis": {
            "backgroundcolor": "#E5ECF6",
            "gridcolor": "white",
            "gridwidth": 2,
            "linecolor": "white",
            "showbackground": true,
            "ticks": "",
            "zerolinecolor": "white"
           }
          },
          "shapedefaults": {
           "line": {
            "color": "#2a3f5f"
           }
          },
          "ternary": {
           "aaxis": {
            "gridcolor": "white",
            "linecolor": "white",
            "ticks": ""
           },
           "baxis": {
            "gridcolor": "white",
            "linecolor": "white",
            "ticks": ""
           },
           "bgcolor": "#E5ECF6",
           "caxis": {
            "gridcolor": "white",
            "linecolor": "white",
            "ticks": ""
           }
          },
          "title": {
           "x": 0.05
          },
          "xaxis": {
           "automargin": true,
           "gridcolor": "white",
           "linecolor": "white",
           "ticks": "",
           "title": {
            "standoff": 15
           },
           "zerolinecolor": "white",
           "zerolinewidth": 2
          },
          "yaxis": {
           "automargin": true,
           "gridcolor": "white",
           "linecolor": "white",
           "ticks": "",
           "title": {
            "standoff": 15
           },
           "zerolinecolor": "white",
           "zerolinewidth": 2
          }
         }
        },
        "title": {
         "text": "Training Loss Over Time"
        },
        "width": 1000,
        "xaxis": {
         "title": {
          "text": "Epoch"
         }
        },
        "yaxis": {
         "title": {
          "text": "Loss (MSE)"
         }
        }
       }
      }
     },
     "metadata": {},
     "output_type": "display_data"
    }
   ],
   "source": [
    "# --- Final Model Training on Full Dataset ---\n",
    "# The loss in this code represents the Mean Squared Error (MSE) between predicted and actual values\n",
    "# MSE measures how far off our price predictions are from the true prices by:\n",
    "# 1. Taking the difference between predicted and actual prices\n",
    "# 2. Squaring these differences (to make all values positive and penalize larger errors more)\n",
    "# 3. Taking the average across all predictions\n",
    "# A lower MSE means our model is making more accurate price predictions\n",
    "print(\"\\n--- Training Final Model on Entire Dataset ---\")\n",
    "\n",
    "# 1. Create and fit the final scaler on all data\n",
    "final_scaler = StandardScaler()\n",
    "X_scaled = final_scaler.fit_transform(X)\n",
    "\n",
    "# 2. Convert full dataset to tensors\n",
    "X_tensor = torch.tensor(X_scaled, dtype=torch.float32)\n",
    "y_tensor = torch.tensor(y, dtype=torch.float32)\n",
    "\n",
    "# 3. DataLoader for final training\n",
    "full_dataset = TensorDataset(X_tensor, y_tensor)\n",
    "full_loader = DataLoader(full_dataset, batch_size=best_config['batch_size'], shuffle=True)\n",
    "\n",
    "# 4. Create the final model\n",
    "final_model = Net(input_size=len(features)).to(device)\n",
    "criterion = nn.MSELoss()  # Mean Squared Error loss function\n",
    "optimizer = torch.optim.Adam(final_model.parameters(), \n",
    "                           lr=best_config['lr'],\n",
    "                           weight_decay=best_config['weight_decay'])\n",
    "\n",
    "# 5. Train the final model on all data\n",
    "final_model.train()\n",
    "best_loss = float('inf')  # Track best (lowest) MSE seen so far\n",
    "patience_counter = 0\n",
    "loss_history = []  # Track loss values for plotting\n",
    "\n",
    "for epoch in range(best_config['epochs']):\n",
    "    epoch_loss = 0  # Accumulate MSE across all batches in epoch\n",
    "    for i, (batch_X, batch_y) in enumerate(full_loader):\n",
    "        batch_X, batch_y = batch_X.to(device), batch_y.to(device)\n",
    "\n",
    "        # Forward pass - get predictions and compute MSE\n",
    "        outputs = final_model(batch_X)\n",
    "        loss = criterion(outputs, batch_y)  # Calculate MSE for this batch\n",
    "        epoch_loss += loss.item()\n",
    "\n",
    "        # Backward and optimize - update model to reduce MSE\n",
    "        optimizer.zero_grad()\n",
    "        loss.backward()\n",
    "        optimizer.step()\n",
    "    \n",
    "    # Calculate average MSE across all batches\n",
    "    avg_loss = epoch_loss/len(full_loader)\n",
    "    loss_history.append(avg_loss)  # Store loss for plotting\n",
    "    \n",
    "    # Early stopping - if MSE stops improving, prevent overfitting\n",
    "    if avg_loss < best_loss:\n",
    "        best_loss = avg_loss\n",
    "        patience_counter = 0\n",
    "    else:\n",
    "        patience_counter += 1\n",
    "        \n",
    "    if patience_counter >= best_config['patience']:\n",
    "        print(f\"Early stopping at epoch {epoch+1}\")\n",
    "        break\n",
    "\n",
    "    # Print progress every 10 epochs\n",
    "    if (epoch + 1) % 10 == 0:\n",
    "        print(f\"Epoch [{epoch+1}/{best_config['epochs']}], Loss (MSE): {avg_loss:.4f}\")\n",
    "\n",
    "fig = go.Figure()\n",
    "fig.add_trace(go.Scatter(\n",
    "    x=list(range(1, len(loss_history) + 1)),\n",
    "    y=loss_history,\n",
    "    mode='lines',\n",
    "    name='Training Loss'\n",
    "))\n",
    "\n",
    "fig.update_layout(\n",
    "    title='Training Loss Over Time',\n",
    "    xaxis_title='Epoch',\n",
    "    yaxis_title='Loss (MSE)',\n",
    "    showlegend=True,\n",
    "    width=1000,\n",
    "    height=400\n",
    ")\n",
    "\n",
    "fig.show()"
   ]
  },
  {
   "cell_type": "markdown",
   "metadata": {},
   "source": [
    "##### plot demand revenue curve"
   ]
  },
  {
   "cell_type": "code",
   "execution_count": 26,
   "metadata": {},
   "outputs": [],
   "source": [
    "# --- Revenue Optimization (using the final model) ---\n",
    "def predict_demand(price, lead_time, check_in_date, available_rooms, model, scaler, device):\n",
    "    \"\"\"\n",
    "    Predict demand using the trained model with correct feature engineering.\n",
    "    Compatible with the cyclical encoding used in training.\n",
    "    \"\"\"\n",
    "    check_in_date = pd.to_datetime(check_in_date)\n",
    "    \n",
    "    # Calculate cyclical features for day of week (0=Monday, 6=Sunday)\n",
    "    day_of_week = check_in_date.dayofweek\n",
    "    check_in_day_sin = np.sin(2 * np.pi * day_of_week / 7)\n",
    "    check_in_day_cos = np.cos(2 * np.pi * day_of_week / 7)\n",
    "    \n",
    "    # Calculate cyclical features for month (1=January, 12=December)\n",
    "    month = check_in_date.month\n",
    "    check_in_month_sin = np.sin(2 * np.pi * month / 12)\n",
    "    check_in_month_cos = np.cos(2 * np.pi * month / 12)\n",
    "    \n",
    "    # Calculate time_index based on unique dates from the original dataset\n",
    "    # For new dates not in original dataset, we'll approximate based on date\n",
    "    start_date = pd.to_datetime('2021-01-01')  # From the original dataset\n",
    "    days_since_start = (check_in_date - start_date).days\n",
    "    time_index = max(0, days_since_start)  # Approximate time index\n",
    "    \n",
    "    # Create input DataFrame with the correct feature order\n",
    "    input_df = pd.DataFrame({\n",
    "        \"price\": [price],\n",
    "        \"lead_time\": [lead_time], \n",
    "        \"check_in_day_sin\": [check_in_day_sin],\n",
    "        \"check_in_day_cos\": [check_in_day_cos],\n",
    "        \"check_in_month_sin\": [check_in_month_sin],\n",
    "        \"check_in_month_cos\": [check_in_month_cos],\n",
    "        \"time_index\": [time_index],\n",
    "        \"available_rooms\": [available_rooms],\n",
    "    })\n",
    "\n",
    "    # Ensure column order matches the training features\n",
    "    input_df = input_df[features]\n",
    "\n",
    "    # Scale the input\n",
    "    input_scaled = scaler.transform(input_df.values)\n",
    "\n",
    "    # Convert to tensor and send to device\n",
    "    input_tensor = torch.tensor(input_scaled, dtype=torch.float32).to(device)\n",
    "\n",
    "    # Prediction\n",
    "    model.eval()  # Set model to evaluation mode\n",
    "    with torch.no_grad():\n",
    "        predicted_bookings = model(input_tensor).item()\n",
    "\n",
    "    return max(0, predicted_bookings)\n"
   ]
  },
  {
   "cell_type": "code",
   "execution_count": 30,
   "metadata": {},
   "outputs": [],
   "source": [
    "def plot_demand_revenue_curve(date_str, lead_time, available_rooms, model, scaler, device):\n",
    "    # We generate 100 prices from $50 to $500 to see how demand and revenue change.\n",
    "    prices = np.linspace(50, 250, 100)\n",
    "    demands = [predict_demand(p, lead_time, date_str, available_rooms, model, scaler, device) for p in prices]\n",
    "    revenues = [p * d for p, d in zip(prices, demands)]\n",
    "\n",
    "    optimal_price_index = np.argmax(revenues)\n",
    "    optimal_price = prices[optimal_price_index]\n",
    "    max_revenue = revenues[optimal_price_index]\n",
    "\n",
    "    # Create subplots\n",
    "    fig = make_subplots(\n",
    "        rows=1, cols=2, subplot_titles=[f\"Demand Curve for {date_str}\", f\"Revenue Curve for {date_str}\"]\n",
    "    )\n",
    "\n",
    "    # Plot Demand Curve\n",
    "    fig.add_trace(go.Scatter(x=prices, y=demands, name=\"Demand\"), row=1, col=1)\n",
    "\n",
    "    # Plot Revenue Curve\n",
    "    fig.add_trace(go.Scatter(x=prices, y=revenues, name=\"Revenue\"), row=1, col=2)\n",
    "\n",
    "    # Add vertical line for optimal price\n",
    "    fig.add_vline(\n",
    "        x=optimal_price,\n",
    "        line_dash=\"dash\",\n",
    "        line_color=\"red\",\n",
    "        row=1,\n",
    "        col=2,\n",
    "        annotation_text=f\"Optimal Price: ${optimal_price:.2f}<br>Max Revenue: ${max_revenue:.2f}\",\n",
    "        annotation_position=\"top right\",\n",
    "    )\n",
    "\n",
    "    # Update layout\n",
    "    fig.update_layout(showlegend=True, width=1000, height=400)\n",
    "\n",
    "    # Update axes labels\n",
    "    fig.update_xaxes(title_text=\"Price ($)\", row=1, col=1)\n",
    "    fig.update_xaxes(title_text=\"Price ($)\", row=1, col=2)\n",
    "    fig.update_yaxes(title_text=\"Predicted Bookings\", row=1, col=1)\n",
    "    fig.update_yaxes(title_text=\"Predicted Revenue ($)\", row=1, col=2)\n",
    "\n",
    "    fig.show()\n"
   ]
  },
  {
   "cell_type": "code",
   "execution_count": 32,
   "metadata": {},
   "outputs": [
    {
     "name": "stdout",
     "output_type": "stream",
     "text": [
      "\n",
      "--- Optimizing Revenue for a Specific Day ---\n"
     ]
    },
    {
     "data": {
      "application/vnd.plotly.v1+json": {
       "config": {
        "plotlyServerURL": "https://plot.ly"
       },
       "data": [
        {
         "name": "Demand",
         "type": "scatter",
         "x": {
          "bdata": "AAAAAAAASUBYCtT6lQJKQLAUqPUrBUtACB988MEHTEBgKVDrVwpNQLgzJObtDE5AED744IMPT0A0JObtDAlQQGApUOtXilBAjC666KILUUC4MyTm7YxRQOQ4juM4DlJAED744IOPUkA8Q2LezhBTQGhIzNsZklNAlE022WQTVEDAUqDWr5RUQOxXCtT6FVVAGF100UWXVUBEYt7OkBhWQHBnSMzbmVZAnGyyySYbV0DIcRzHcZxXQPR2hsS8HVhAH3zwwQefWEBLgVq/UiBZQHeGxLydoVlAo4suuugiWkDPkJi3M6RaQPuVArV+JVtAJ5tsssmmW0BToNavFChcQH+lQK1fqVxAq6qqqqoqXUDXrxSo9atdQAO1fqVALV5AL7rooouuXkBbv1Kg1i9fQIfEvJ0hsV9A2mSTTTYZYEBwZ0jM21lgQAZq/UqBmmBAnGyyySbbYEAyb2dIzBthQMhxHMdxXGFAXnTRRRedYUD0dobEvN1hQIp5O0NiHmJAH3zwwQdfYkC1fqVArZ9iQEuBWr9S4GJA4YMPPvggY0B3hsS8nWFjQA2JeTtDomNAo4suuujiY0A5juM4jiNkQM+QmLczZGRAZZNNNtmkZED7lQK1fuVkQJGYtzMkJmVAJ5tssslmZUC9nSExb6dlQFOg1q8U6GVA6aKLLrooZkB/pUCtX2lmQBWo9SsFqmZAq6qqqqrqZkBBrV8pUCtnQNevFKj1a2dAbbLJJpusZ0ADtX6lQO1nQJm3MyTmLWhAL7roootuaEDFvJ0hMa9oQFu/UqDW72hA8cEHH3wwaUCHxLydIXFpQB3HcRzHsWlAs8kmm2zyaUBJzNsZEjNqQN/OkJi3c2pAddFFF120akAL1PqVAvVqQKHWrxSoNWtAN9lkk012a0DN2xkS87ZrQGPezpCY92tA+eCDDz44bECP4ziO43hsQCXm7QyJuWxAu+iiiy76bEBR61cK1DptQOftDIl5e21AffDBBx+8bUAT83aGxPxtQKn1KwVqPW5APvjggw9+bkDU+pUCtb5uQGr9SoFa/25AAAAAAABAb0A=",
          "dtype": "f8"
         },
         "xaxis": "x",
         "y": [
          35.97201156616211,
          35.82693099975586,
          35.68184280395508,
          35.53676223754883,
          35.39168167114258,
          35.2465705871582,
          35.101375579833984,
          34.956180572509766,
          34.81098175048828,
          34.66578674316406,
          34.52059555053711,
          34.37540054321289,
          34.23020553588867,
          34.10285186767578,
          34.02031326293945,
          33.93777847290039,
          33.85523986816406,
          33.772701263427734,
          33.690162658691406,
          33.60762405395508,
          33.525089263916016,
          33.48697280883789,
          33.46805953979492,
          33.449153900146484,
          33.43023681640625,
          33.41132736206055,
          33.39241409301758,
          33.37350082397461,
          33.354557037353516,
          33.33553695678711,
          33.3165168762207,
          33.29750061035156,
          33.27848434448242,
          33.27348327636719,
          33.355960845947266,
          33.43844223022461,
          33.52092361450195,
          33.6034049987793,
          33.68588638305664,
          33.76826477050781,
          33.848838806152344,
          33.67887496948242,
          33.50880813598633,
          33.33868408203125,
          33.12710189819336,
          32.869529724121094,
          32.577362060546875,
          32.226558685302734,
          31.875377655029297,
          31.52419662475586,
          31.17301368713379,
          30.821834564208984,
          30.53265953063965,
          30.248716354370117,
          29.964771270751953,
          29.68082618713379,
          29.426984786987305,
          29.213653564453125,
          29.000324249267578,
          28.881572723388672,
          28.765377044677734,
          28.649185180664062,
          28.549457550048828,
          28.322673797607422,
          28.006702423095703,
          27.699718475341797,
          27.433542251586914,
          27.16736602783203,
          26.90119171142578,
          26.635013580322266,
          26.3934383392334,
          26.169803619384766,
          25.94561004638672,
          25.721416473388672,
          25.497222900390625,
          25.272991180419922,
          24.944915771484375,
          24.56078338623047,
          24.181982040405273,
          23.803178787231445,
          23.424375534057617,
          23.045574188232422,
          22.67022705078125,
          22.378599166870117,
          22.091514587402344,
          21.804431915283203,
          21.51319694519043,
          21.219196319580078,
          20.932785034179688,
          20.666536331176758,
          20.400283813476562,
          20.134033203125,
          19.867782592773438,
          19.663469314575195,
          19.44544792175293,
          19.22742462158203,
          19.079524993896484,
          18.946170806884766,
          18.86597442626953,
          18.816364288330078
         ],
         "yaxis": "y"
        },
        {
         "name": "Revenue",
         "type": "scatter",
         "x": {
          "bdata": "AAAAAAAASUBYCtT6lQJKQLAUqPUrBUtACB988MEHTEBgKVDrVwpNQLgzJObtDE5AED744IMPT0A0JObtDAlQQGApUOtXilBAjC666KILUUC4MyTm7YxRQOQ4juM4DlJAED744IOPUkA8Q2LezhBTQGhIzNsZklNAlE022WQTVEDAUqDWr5RUQOxXCtT6FVVAGF100UWXVUBEYt7OkBhWQHBnSMzbmVZAnGyyySYbV0DIcRzHcZxXQPR2hsS8HVhAH3zwwQefWEBLgVq/UiBZQHeGxLydoVlAo4suuugiWkDPkJi3M6RaQPuVArV+JVtAJ5tsssmmW0BToNavFChcQH+lQK1fqVxAq6qqqqoqXUDXrxSo9atdQAO1fqVALV5AL7rooouuXkBbv1Kg1i9fQIfEvJ0hsV9A2mSTTTYZYEBwZ0jM21lgQAZq/UqBmmBAnGyyySbbYEAyb2dIzBthQMhxHMdxXGFAXnTRRRedYUD0dobEvN1hQIp5O0NiHmJAH3zwwQdfYkC1fqVArZ9iQEuBWr9S4GJA4YMPPvggY0B3hsS8nWFjQA2JeTtDomNAo4suuujiY0A5juM4jiNkQM+QmLczZGRAZZNNNtmkZED7lQK1fuVkQJGYtzMkJmVAJ5tssslmZUC9nSExb6dlQFOg1q8U6GVA6aKLLrooZkB/pUCtX2lmQBWo9SsFqmZAq6qqqqrqZkBBrV8pUCtnQNevFKj1a2dAbbLJJpusZ0ADtX6lQO1nQJm3MyTmLWhAL7roootuaEDFvJ0hMa9oQFu/UqDW72hA8cEHH3wwaUCHxLydIXFpQB3HcRzHsWlAs8kmm2zyaUBJzNsZEjNqQN/OkJi3c2pAddFFF120akAL1PqVAvVqQKHWrxSoNWtAN9lkk012a0DN2xkS87ZrQGPezpCY92tA+eCDDz44bECP4ziO43hsQCXm7QyJuWxAu+iiiy76bEBR61cK1DptQOftDIl5e21AffDBBx+8bUAT83aGxPxtQKn1KwVqPW5APvjggw9+bkDU+pUCtb5uQGr9SoFa/25AAAAAAABAb0A=",
          "dtype": "f8"
         },
         "xaxis": "x2",
         "y": [
          1798.6005783081055,
          1863.724188371138,
          1928.261202031916,
          1992.2124284686465,
          2055.577470798685,
          2118.3544948847607,
          2180.539998141202,
          2242.138854903404,
          2303.150812784831,
          2363.576368852095,
          2423.415546224575,
          2482.6678170098203,
          2541.333441300826,
          2600.7730464742644,
          2663.206341290715,
          2725.3064531268496,
          2787.0727770256276,
          2848.5056116123396,
          2909.6049568869853,
          2970.3708128495655,
          3030.803524364125,
          3095.008092938048,
          3160.872289869521,
          3226.6608055191814,
          3292.371807676373,
          3358.0071439646713,
          3423.5656873144285,
          3489.0478134155273,
          3554.450270142218,
          3619.767901873348,
          3685.0086847941084,
          3750.173048539595,
          3815.2605788876313,
          3881.906382242839,
          3958.914544847277,
          4036.256410618021,
          4113.931534507058,
          4191.939916514387,
          4270.281556640009,
          4348.943190141158,
          4427.701641814878,
          4473.507129784787,
          4518.612006216339,
          4563.021912237611,
          4600.986374749078,
          4631.615552035246,
          4656.259324815539,
          4671.223405394892,
          4684.714594754306,
          4696.78687086009,
          4707.439945683334,
          4716.674683310769,
          4734.104280760794,
          4751.187265762175,
          4767.122702165084,
          4781.910885704889,
          4800.462669796414,
          4824.679149280895,
          4848.034003286651,
          4886.528718351114,
          4924.981221285733,
          4962.964907559482,
          5003.36453023583,
          5020.83762775768,
          5021.403717272209,
          5022.322693256417,
          5029.482746124268,
          5035.5673395022,
          5040.576830777255,
          5044.510147788308,
          5052.077338671444,
          5062.138780921397,
          5071.187418157405,
          5079.330222775238,
          5086.567194774898,
          5092.8906469634085,
          5077.172250458689,
          5048.605473836264,
          5019.593241720489,
          4989.050099343965,
          4956.976438772799,
          4923.372667486018,
          4888.983308426058,
          4871.301131778294,
          4853.438810868697,
          4834.416975156226,
          4813.306185211799,
          4790.394320632473,
          4768.023257785374,
          4749.1282983259725,
          4729.156702215022,
          4708.109784367109,
          4685.9871064773715,
          4677.522246042888,
          4664.9433145619405,
          4651.4830271403,
          4654.247763662627,
          4659.992516642869,
          4678.380526918353,
          4704.0910720825195
         ],
         "yaxis": "y2"
        }
       ],
       "layout": {
        "annotations": [
         {
          "font": {
           "size": 16
          },
          "showarrow": false,
          "text": "Demand Curve for 2024-07-26",
          "x": 0.225,
          "xanchor": "center",
          "xref": "paper",
          "y": 1,
          "yanchor": "bottom",
          "yref": "paper"
         },
         {
          "font": {
           "size": 16
          },
          "showarrow": false,
          "text": "Revenue Curve for 2024-07-26",
          "x": 0.775,
          "xanchor": "center",
          "xref": "paper",
          "y": 1,
          "yanchor": "bottom",
          "yref": "paper"
         },
         {
          "showarrow": false,
          "text": "Optimal Price: $201.52<br>Max Revenue: $5092.89",
          "x": 201.51515151515153,
          "xanchor": "left",
          "xref": "x2",
          "y": 1,
          "yanchor": "top",
          "yref": "y2 domain"
         }
        ],
        "height": 400,
        "shapes": [
         {
          "line": {
           "color": "red",
           "dash": "dash"
          },
          "type": "line",
          "x0": 201.51515151515153,
          "x1": 201.51515151515153,
          "xref": "x2",
          "y0": 0,
          "y1": 1,
          "yref": "y2 domain"
         }
        ],
        "showlegend": true,
        "template": {
         "data": {
          "bar": [
           {
            "error_x": {
             "color": "#2a3f5f"
            },
            "error_y": {
             "color": "#2a3f5f"
            },
            "marker": {
             "line": {
              "color": "#E5ECF6",
              "width": 0.5
             },
             "pattern": {
              "fillmode": "overlay",
              "size": 10,
              "solidity": 0.2
             }
            },
            "type": "bar"
           }
          ],
          "barpolar": [
           {
            "marker": {
             "line": {
              "color": "#E5ECF6",
              "width": 0.5
             },
             "pattern": {
              "fillmode": "overlay",
              "size": 10,
              "solidity": 0.2
             }
            },
            "type": "barpolar"
           }
          ],
          "carpet": [
           {
            "aaxis": {
             "endlinecolor": "#2a3f5f",
             "gridcolor": "white",
             "linecolor": "white",
             "minorgridcolor": "white",
             "startlinecolor": "#2a3f5f"
            },
            "baxis": {
             "endlinecolor": "#2a3f5f",
             "gridcolor": "white",
             "linecolor": "white",
             "minorgridcolor": "white",
             "startlinecolor": "#2a3f5f"
            },
            "type": "carpet"
           }
          ],
          "choropleth": [
           {
            "colorbar": {
             "outlinewidth": 0,
             "ticks": ""
            },
            "type": "choropleth"
           }
          ],
          "contour": [
           {
            "colorbar": {
             "outlinewidth": 0,
             "ticks": ""
            },
            "colorscale": [
             [
              0,
              "#0d0887"
             ],
             [
              0.1111111111111111,
              "#46039f"
             ],
             [
              0.2222222222222222,
              "#7201a8"
             ],
             [
              0.3333333333333333,
              "#9c179e"
             ],
             [
              0.4444444444444444,
              "#bd3786"
             ],
             [
              0.5555555555555556,
              "#d8576b"
             ],
             [
              0.6666666666666666,
              "#ed7953"
             ],
             [
              0.7777777777777778,
              "#fb9f3a"
             ],
             [
              0.8888888888888888,
              "#fdca26"
             ],
             [
              1,
              "#f0f921"
             ]
            ],
            "type": "contour"
           }
          ],
          "contourcarpet": [
           {
            "colorbar": {
             "outlinewidth": 0,
             "ticks": ""
            },
            "type": "contourcarpet"
           }
          ],
          "heatmap": [
           {
            "colorbar": {
             "outlinewidth": 0,
             "ticks": ""
            },
            "colorscale": [
             [
              0,
              "#0d0887"
             ],
             [
              0.1111111111111111,
              "#46039f"
             ],
             [
              0.2222222222222222,
              "#7201a8"
             ],
             [
              0.3333333333333333,
              "#9c179e"
             ],
             [
              0.4444444444444444,
              "#bd3786"
             ],
             [
              0.5555555555555556,
              "#d8576b"
             ],
             [
              0.6666666666666666,
              "#ed7953"
             ],
             [
              0.7777777777777778,
              "#fb9f3a"
             ],
             [
              0.8888888888888888,
              "#fdca26"
             ],
             [
              1,
              "#f0f921"
             ]
            ],
            "type": "heatmap"
           }
          ],
          "histogram": [
           {
            "marker": {
             "pattern": {
              "fillmode": "overlay",
              "size": 10,
              "solidity": 0.2
             }
            },
            "type": "histogram"
           }
          ],
          "histogram2d": [
           {
            "colorbar": {
             "outlinewidth": 0,
             "ticks": ""
            },
            "colorscale": [
             [
              0,
              "#0d0887"
             ],
             [
              0.1111111111111111,
              "#46039f"
             ],
             [
              0.2222222222222222,
              "#7201a8"
             ],
             [
              0.3333333333333333,
              "#9c179e"
             ],
             [
              0.4444444444444444,
              "#bd3786"
             ],
             [
              0.5555555555555556,
              "#d8576b"
             ],
             [
              0.6666666666666666,
              "#ed7953"
             ],
             [
              0.7777777777777778,
              "#fb9f3a"
             ],
             [
              0.8888888888888888,
              "#fdca26"
             ],
             [
              1,
              "#f0f921"
             ]
            ],
            "type": "histogram2d"
           }
          ],
          "histogram2dcontour": [
           {
            "colorbar": {
             "outlinewidth": 0,
             "ticks": ""
            },
            "colorscale": [
             [
              0,
              "#0d0887"
             ],
             [
              0.1111111111111111,
              "#46039f"
             ],
             [
              0.2222222222222222,
              "#7201a8"
             ],
             [
              0.3333333333333333,
              "#9c179e"
             ],
             [
              0.4444444444444444,
              "#bd3786"
             ],
             [
              0.5555555555555556,
              "#d8576b"
             ],
             [
              0.6666666666666666,
              "#ed7953"
             ],
             [
              0.7777777777777778,
              "#fb9f3a"
             ],
             [
              0.8888888888888888,
              "#fdca26"
             ],
             [
              1,
              "#f0f921"
             ]
            ],
            "type": "histogram2dcontour"
           }
          ],
          "mesh3d": [
           {
            "colorbar": {
             "outlinewidth": 0,
             "ticks": ""
            },
            "type": "mesh3d"
           }
          ],
          "parcoords": [
           {
            "line": {
             "colorbar": {
              "outlinewidth": 0,
              "ticks": ""
             }
            },
            "type": "parcoords"
           }
          ],
          "pie": [
           {
            "automargin": true,
            "type": "pie"
           }
          ],
          "scatter": [
           {
            "fillpattern": {
             "fillmode": "overlay",
             "size": 10,
             "solidity": 0.2
            },
            "type": "scatter"
           }
          ],
          "scatter3d": [
           {
            "line": {
             "colorbar": {
              "outlinewidth": 0,
              "ticks": ""
             }
            },
            "marker": {
             "colorbar": {
              "outlinewidth": 0,
              "ticks": ""
             }
            },
            "type": "scatter3d"
           }
          ],
          "scattercarpet": [
           {
            "marker": {
             "colorbar": {
              "outlinewidth": 0,
              "ticks": ""
             }
            },
            "type": "scattercarpet"
           }
          ],
          "scattergeo": [
           {
            "marker": {
             "colorbar": {
              "outlinewidth": 0,
              "ticks": ""
             }
            },
            "type": "scattergeo"
           }
          ],
          "scattergl": [
           {
            "marker": {
             "colorbar": {
              "outlinewidth": 0,
              "ticks": ""
             }
            },
            "type": "scattergl"
           }
          ],
          "scattermap": [
           {
            "marker": {
             "colorbar": {
              "outlinewidth": 0,
              "ticks": ""
             }
            },
            "type": "scattermap"
           }
          ],
          "scattermapbox": [
           {
            "marker": {
             "colorbar": {
              "outlinewidth": 0,
              "ticks": ""
             }
            },
            "type": "scattermapbox"
           }
          ],
          "scatterpolar": [
           {
            "marker": {
             "colorbar": {
              "outlinewidth": 0,
              "ticks": ""
             }
            },
            "type": "scatterpolar"
           }
          ],
          "scatterpolargl": [
           {
            "marker": {
             "colorbar": {
              "outlinewidth": 0,
              "ticks": ""
             }
            },
            "type": "scatterpolargl"
           }
          ],
          "scatterternary": [
           {
            "marker": {
             "colorbar": {
              "outlinewidth": 0,
              "ticks": ""
             }
            },
            "type": "scatterternary"
           }
          ],
          "surface": [
           {
            "colorbar": {
             "outlinewidth": 0,
             "ticks": ""
            },
            "colorscale": [
             [
              0,
              "#0d0887"
             ],
             [
              0.1111111111111111,
              "#46039f"
             ],
             [
              0.2222222222222222,
              "#7201a8"
             ],
             [
              0.3333333333333333,
              "#9c179e"
             ],
             [
              0.4444444444444444,
              "#bd3786"
             ],
             [
              0.5555555555555556,
              "#d8576b"
             ],
             [
              0.6666666666666666,
              "#ed7953"
             ],
             [
              0.7777777777777778,
              "#fb9f3a"
             ],
             [
              0.8888888888888888,
              "#fdca26"
             ],
             [
              1,
              "#f0f921"
             ]
            ],
            "type": "surface"
           }
          ],
          "table": [
           {
            "cells": {
             "fill": {
              "color": "#EBF0F8"
             },
             "line": {
              "color": "white"
             }
            },
            "header": {
             "fill": {
              "color": "#C8D4E3"
             },
             "line": {
              "color": "white"
             }
            },
            "type": "table"
           }
          ]
         },
         "layout": {
          "annotationdefaults": {
           "arrowcolor": "#2a3f5f",
           "arrowhead": 0,
           "arrowwidth": 1
          },
          "autotypenumbers": "strict",
          "coloraxis": {
           "colorbar": {
            "outlinewidth": 0,
            "ticks": ""
           }
          },
          "colorscale": {
           "diverging": [
            [
             0,
             "#8e0152"
            ],
            [
             0.1,
             "#c51b7d"
            ],
            [
             0.2,
             "#de77ae"
            ],
            [
             0.3,
             "#f1b6da"
            ],
            [
             0.4,
             "#fde0ef"
            ],
            [
             0.5,
             "#f7f7f7"
            ],
            [
             0.6,
             "#e6f5d0"
            ],
            [
             0.7,
             "#b8e186"
            ],
            [
             0.8,
             "#7fbc41"
            ],
            [
             0.9,
             "#4d9221"
            ],
            [
             1,
             "#276419"
            ]
           ],
           "sequential": [
            [
             0,
             "#0d0887"
            ],
            [
             0.1111111111111111,
             "#46039f"
            ],
            [
             0.2222222222222222,
             "#7201a8"
            ],
            [
             0.3333333333333333,
             "#9c179e"
            ],
            [
             0.4444444444444444,
             "#bd3786"
            ],
            [
             0.5555555555555556,
             "#d8576b"
            ],
            [
             0.6666666666666666,
             "#ed7953"
            ],
            [
             0.7777777777777778,
             "#fb9f3a"
            ],
            [
             0.8888888888888888,
             "#fdca26"
            ],
            [
             1,
             "#f0f921"
            ]
           ],
           "sequentialminus": [
            [
             0,
             "#0d0887"
            ],
            [
             0.1111111111111111,
             "#46039f"
            ],
            [
             0.2222222222222222,
             "#7201a8"
            ],
            [
             0.3333333333333333,
             "#9c179e"
            ],
            [
             0.4444444444444444,
             "#bd3786"
            ],
            [
             0.5555555555555556,
             "#d8576b"
            ],
            [
             0.6666666666666666,
             "#ed7953"
            ],
            [
             0.7777777777777778,
             "#fb9f3a"
            ],
            [
             0.8888888888888888,
             "#fdca26"
            ],
            [
             1,
             "#f0f921"
            ]
           ]
          },
          "colorway": [
           "#636efa",
           "#EF553B",
           "#00cc96",
           "#ab63fa",
           "#FFA15A",
           "#19d3f3",
           "#FF6692",
           "#B6E880",
           "#FF97FF",
           "#FECB52"
          ],
          "font": {
           "color": "#2a3f5f"
          },
          "geo": {
           "bgcolor": "white",
           "lakecolor": "white",
           "landcolor": "#E5ECF6",
           "showlakes": true,
           "showland": true,
           "subunitcolor": "white"
          },
          "hoverlabel": {
           "align": "left"
          },
          "hovermode": "closest",
          "mapbox": {
           "style": "light"
          },
          "paper_bgcolor": "white",
          "plot_bgcolor": "#E5ECF6",
          "polar": {
           "angularaxis": {
            "gridcolor": "white",
            "linecolor": "white",
            "ticks": ""
           },
           "bgcolor": "#E5ECF6",
           "radialaxis": {
            "gridcolor": "white",
            "linecolor": "white",
            "ticks": ""
           }
          },
          "scene": {
           "xaxis": {
            "backgroundcolor": "#E5ECF6",
            "gridcolor": "white",
            "gridwidth": 2,
            "linecolor": "white",
            "showbackground": true,
            "ticks": "",
            "zerolinecolor": "white"
           },
           "yaxis": {
            "backgroundcolor": "#E5ECF6",
            "gridcolor": "white",
            "gridwidth": 2,
            "linecolor": "white",
            "showbackground": true,
            "ticks": "",
            "zerolinecolor": "white"
           },
           "zaxis": {
            "backgroundcolor": "#E5ECF6",
            "gridcolor": "white",
            "gridwidth": 2,
            "linecolor": "white",
            "showbackground": true,
            "ticks": "",
            "zerolinecolor": "white"
           }
          },
          "shapedefaults": {
           "line": {
            "color": "#2a3f5f"
           }
          },
          "ternary": {
           "aaxis": {
            "gridcolor": "white",
            "linecolor": "white",
            "ticks": ""
           },
           "baxis": {
            "gridcolor": "white",
            "linecolor": "white",
            "ticks": ""
           },
           "bgcolor": "#E5ECF6",
           "caxis": {
            "gridcolor": "white",
            "linecolor": "white",
            "ticks": ""
           }
          },
          "title": {
           "x": 0.05
          },
          "xaxis": {
           "automargin": true,
           "gridcolor": "white",
           "linecolor": "white",
           "ticks": "",
           "title": {
            "standoff": 15
           },
           "zerolinecolor": "white",
           "zerolinewidth": 2
          },
          "yaxis": {
           "automargin": true,
           "gridcolor": "white",
           "linecolor": "white",
           "ticks": "",
           "title": {
            "standoff": 15
           },
           "zerolinecolor": "white",
           "zerolinewidth": 2
          }
         }
        },
        "width": 1000,
        "xaxis": {
         "anchor": "y",
         "domain": [
          0,
          0.45
         ],
         "title": {
          "text": "Price ($)"
         }
        },
        "xaxis2": {
         "anchor": "y2",
         "domain": [
          0.55,
          1
         ],
         "title": {
          "text": "Price ($)"
         }
        },
        "yaxis": {
         "anchor": "x",
         "domain": [
          0,
          1
         ],
         "title": {
          "text": "Predicted Bookings"
         }
        },
        "yaxis2": {
         "anchor": "x2",
         "domain": [
          0,
          1
         ],
         "title": {
          "text": "Predicted Revenue ($)"
         }
        }
       }
      }
     },
     "metadata": {},
     "output_type": "display_data"
    }
   ],
   "source": [
    "# Example: Find the optimal price for a weekend in the summer\n",
    "print(\"\\n--- Optimizing Revenue for a Specific Day ---\")\n",
    "plot_demand_revenue_curve(\n",
    "    date_str=\"2024-07-26\",  # A Friday in summer\n",
    "    lead_time=20,  # 30 days in advance\n",
    "    available_rooms=40,  # 80 rooms available\n",
    "    model=final_model,\n",
    "    scaler=final_scaler,\n",
    "    device=device,\n",
    ")"
   ]
  },
  {
   "cell_type": "markdown",
   "metadata": {},
   "source": [
    "### **reinforcement learning agent**\n",
    "\n",
    "The model is also trained. final_model"
   ]
  },
  {
   "cell_type": "markdown",
   "metadata": {},
   "source": [
    "##### Reinforcement Learning Environment definition\n",
    "\n",
    "This class will simulate the booking process for a single check-in date. The RL agent will interact with this environment by setting prices, and the environment will use your trained model to predict how many bookings are made at that price, returning the resulting revenue as a reward."
   ]
  },
  {
   "cell_type": "code",
   "execution_count": 138,
   "metadata": {},
   "outputs": [],
   "source": [
    "class HotelBookingEnv:\n",
    "    def __init__(self, demand_model, X_scaler, total_rooms=100, max_lead_time=59):\n",
    "        self.demand_model = demand_model\n",
    "        self.X_scaler = X_scaler  # We only need the one scaler for inputs\n",
    "        self.total_rooms = total_rooms\n",
    "        self.max_lead_time = max_lead_time\n",
    "\n",
    "        self.action_space = np.linspace(100, 500, 20)\n",
    "        self.num_actions = len(self.action_space)\n",
    "\n",
    "    def _predict_bookings(self, state, action):\n",
    "        price = self.action_space[action]\n",
    "        lead_time_days, available_rooms, day_of_week, month, _ = state\n",
    "\n",
    "        if available_rooms <= 0:\n",
    "            return 0\n",
    "\n",
    "        # Create input array with 5 features\n",
    "        input_features = np.array([[price, lead_time_days, available_rooms, day_of_week, month]])\n",
    "\n",
    "        # Scale inputs using the single scaler\n",
    "        input_scaled = self.X_scaler.transform(input_features)\n",
    "        input_tensor = torch.tensor(input_scaled, dtype=torch.float32)\n",
    "\n",
    "        with torch.no_grad():\n",
    "            # Get the direct, unscaled prediction from the model\n",
    "            predicted_bookings = self.demand_model(input_tensor).item()\n",
    "\n",
    "        # No y_scaler needed. Just ensure the value is a valid number of bookings.\n",
    "        num_bookings = min(available_rooms, max(0, int(predicted_bookings)))\n",
    "        return num_bookings\n",
    "\n",
    "    def reset(self, check_in_date=None):\n",
    "        if check_in_date is None:\n",
    "            self.check_in_date = pd.to_datetime(df[\"check_in_date\"].sample(1).iloc[0])\n",
    "        else:\n",
    "            self.check_in_date = pd.to_datetime(check_in_date)\n",
    "\n",
    "        self.lead_time = self.max_lead_time\n",
    "        self.available_rooms = self.total_rooms\n",
    "\n",
    "        self.state = [\n",
    "            self.lead_time,\n",
    "            self.available_rooms,\n",
    "            self.check_in_date.dayofweek,\n",
    "            self.check_in_date.month,\n",
    "            self.check_in_date.year,\n",
    "        ]\n",
    "        return self.state\n",
    "\n",
    "    def step(self, action):\n",
    "        num_bookings = self._predict_bookings(self.state, action)\n",
    "        price = self.action_space[action]\n",
    "        reward = price * num_bookings\n",
    "\n",
    "        self.available_rooms -= num_bookings\n",
    "        self.lead_time -= 1\n",
    "        self.state = [\n",
    "            self.lead_time,\n",
    "            self.available_rooms,\n",
    "            self.check_in_date.dayofweek,\n",
    "            self.check_in_date.month,\n",
    "            self.check_in_date.year,\n",
    "        ]\n",
    "\n",
    "        done = self.lead_time < 0 or self.available_rooms <= 0\n",
    "        return self.state, reward, done, {}"
   ]
  },
  {
   "cell_type": "markdown",
   "metadata": {},
   "source": [
    "##### QLearningAgent definition\n",
    "\n",
    "This agent will learn the optimal pricing strategy by interacting with the HotelBookingEnv you just created.\n",
    "It uses a Q-table to map states (specifically, how many days are left to book and how many rooms are available) to the expected long-term revenue of each possible pricing action."
   ]
  },
  {
   "cell_type": "code",
   "execution_count": 139,
   "metadata": {},
   "outputs": [],
   "source": [
    "class QLearningAgent:\n",
    "    def __init__(\n",
    "        self,\n",
    "        num_actions,\n",
    "        total_rooms,\n",
    "        max_lead_time,\n",
    "        learning_rate=0.1,\n",
    "        discount_factor=0.99,\n",
    "        epsilon=1.0,\n",
    "        epsilon_decay=0.999,\n",
    "        epsilon_min=0.01,\n",
    "    ):\n",
    "        self.num_actions = num_actions\n",
    "        self.total_rooms = total_rooms  # Store total_rooms\n",
    "        self.lr = learning_rate\n",
    "        self.gamma = discount_factor\n",
    "        self.epsilon = epsilon\n",
    "        self.epsilon_decay = epsilon_decay\n",
    "        self.epsilon_min = epsilon_min\n",
    "        self.room_bins = 10\n",
    "        self.q_table = np.zeros((max_lead_time + 1, self.room_bins, num_actions))\n",
    "\n",
    "    def _discretize_state(self, state):\n",
    "        lead_time, available_rooms, _, _, _ = state\n",
    "        # Convert continuous available_rooms into discrete bins\n",
    "        room_index = int(available_rooms / (self.total_rooms / self.room_bins))\n",
    "        room_index = min(self.room_bins - 1, max(0, room_index))\n",
    "        return (int(lead_time), room_index)\n",
    "\n",
    "    def choose_action(self, state):\n",
    "        discrete_state = self._discretize_state(state)\n",
    "        # Epsilon-greedy strategy\n",
    "        if np.random.rand() < self.epsilon:\n",
    "            return np.random.randint(self.num_actions)\n",
    "        else:\n",
    "            return np.argmax(self.q_table[discrete_state])\n",
    "\n",
    "    def update(self, state, action, reward, next_state, done):\n",
    "        discrete_state = self._discretize_state(state)\n",
    "        discrete_next_state = self._discretize_state(next_state)\n",
    "\n",
    "        old_value = self.q_table[discrete_state][action]\n",
    "        next_max = 0 if done else np.max(self.q_table[discrete_next_state])\n",
    "\n",
    "        new_value = old_value + self.lr * (reward + self.gamma * next_max - old_value)\n",
    "        self.q_table[discrete_state][action] = new_value\n",
    "\n",
    "        if self.epsilon > self.epsilon_min:\n",
    "            self.epsilon *= self.epsilon_decay"
   ]
  },
  {
   "cell_type": "markdown",
   "metadata": {},
   "source": [
    "##### training QLearningAgent"
   ]
  },
  {
   "cell_type": "code",
   "execution_count": 140,
   "metadata": {},
   "outputs": [
    {
     "name": "stdout",
     "output_type": "stream",
     "text": [
      "\n",
      "--- Training Reinforcement Learning Agent ---\n",
      "Episode 500/5000, Average Reward: 0.00, Epsilon: 0.01\n",
      "Episode 1000/5000, Average Reward: 0.00, Epsilon: 0.01\n",
      "Episode 1500/5000, Average Reward: 0.00, Epsilon: 0.01\n",
      "Episode 2000/5000, Average Reward: 0.00, Epsilon: 0.01\n",
      "Episode 2500/5000, Average Reward: 0.00, Epsilon: 0.01\n",
      "Episode 3000/5000, Average Reward: 0.00, Epsilon: 0.01\n",
      "Episode 3500/5000, Average Reward: 0.00, Epsilon: 0.01\n",
      "Episode 4000/5000, Average Reward: 0.00, Epsilon: 0.01\n",
      "Episode 4500/5000, Average Reward: 0.00, Epsilon: 0.01\n",
      "Episode 5000/5000, Average Reward: 0.00, Epsilon: 0.01\n"
     ]
    }
   ],
   "source": [
    "# --- Train the RL Agent (with single scaler) ---\n",
    "\n",
    "# Make sure 'final_model' and 'final_scaler' are from your training cell\n",
    "# The environment now only takes X_scaler (which is your final_scaler)\n",
    "env = HotelBookingEnv(\n",
    "    demand_model=final_model, \n",
    "    X_scaler=final_scaler,  # Pass your single scaler here\n",
    "    total_rooms=total_rooms, \n",
    "    max_lead_time=max_lead_time - 1\n",
    ")\n",
    "\n",
    "# The QLearningAgent class does not need changes, just initialize it\n",
    "agent = QLearningAgent(\n",
    "    num_actions=env.num_actions, \n",
    "    total_rooms=total_rooms, \n",
    "    max_lead_time=max_lead_time\n",
    ")\n",
    "\n",
    "episodes = 5000\n",
    "total_rewards = []\n",
    "\n",
    "print(\"\\n--- Training Reinforcement Learning Agent ---\")\n",
    "for episode in range(episodes):\n",
    "    state = env.reset()\n",
    "    done = False\n",
    "    episode_reward = 0\n",
    "\n",
    "    while not done:\n",
    "        action = agent.choose_action(state)\n",
    "        next_state, reward, done, _ = env.step(action)\n",
    "        agent.update(state, action, reward, next_state, done)\n",
    "\n",
    "        state = next_state\n",
    "        episode_reward += reward\n",
    "\n",
    "    total_rewards.append(episode_reward)\n",
    "\n",
    "    if (episode + 1) % 500 == 0:\n",
    "        avg_reward = np.mean(total_rewards[-500:])\n",
    "        print(f\"Episode {episode + 1}/{episodes}, Average Reward: {avg_reward:.2f}, Epsilon: {agent.epsilon:.2f}\")\n",
    "\n"
   ]
  },
  {
   "cell_type": "code",
   "execution_count": 141,
   "metadata": {},
   "outputs": [
    {
     "name": "stdout",
     "output_type": "stream",
     "text": [
      "\n",
      "--- Running Final Comparison Simulations ---\n",
      "\n",
      "Average RL Agent Revenue: $0.00\n",
      "Average Baseline (Greedy) Revenue: $0.00\n",
      "Baseline revenue was zero, cannot calculate improvement.\n"
     ]
    }
   ],
   "source": [
    "# --- Compare RL Agent vs. Baseline Strategy ---\n",
    "\n",
    "# Set the trained agent to exploitation mode (no more random actions)\n",
    "agent.epsilon = 0\n",
    "\n",
    "def run_simulation(env, policy, check_in_date):\n",
    "    \"\"\"Runs one full simulation for a given check-in date and policy.\"\"\"\n",
    "    state = env.reset(check_in_date=check_in_date)\n",
    "    done = False\n",
    "    total_revenue = 0\n",
    "    while not done:\n",
    "        action = policy(state)\n",
    "        next_state, reward, done, _ = env.step(action)\n",
    "        state = next_state\n",
    "        total_revenue += reward\n",
    "    return total_revenue\n",
    "\n",
    "# Define the two policies to compare\n",
    "\n",
    "def rl_policy(state):\n",
    "    \"\"\"The policy learned by our Q-learning agent.\"\"\"\n",
    "    return agent.choose_action(state)\n",
    "\n",
    "def baseline_greedy_policy(state):\n",
    "    \"\"\"A greedy policy that chooses the price with the highest *immediate* revenue.\"\"\"\n",
    "    best_action = -1\n",
    "    max_revenue = -1\n",
    "    # Check every possible price to see which one gives the best immediate reward\n",
    "    for action in range(env.num_actions):\n",
    "        price = env.action_space[action]\n",
    "        # Use the environment's internal prediction function\n",
    "        bookings = env._predict_bookings(state, action)\n",
    "        revenue = price * bookings\n",
    "        if revenue > max_revenue:\n",
    "            max_revenue = revenue\n",
    "            best_action = action\n",
    "    return best_action\n",
    "\n",
    "# --- Run the Comparison ---\n",
    "# Use the last 20 unique dates from the dataset as a held-out test set\n",
    "test_dates = df['check_in_date'].unique()[-20:]\n",
    "\n",
    "rl_revenues = []\n",
    "baseline_revenues = []\n",
    "\n",
    "# Make sure to use the correct single scaler ('final_scaler' or whatever you named it)\n",
    "env = HotelBookingEnv(\n",
    "    demand_model=final_model, \n",
    "    X_scaler=final_scaler, \n",
    "    total_rooms=total_rooms, \n",
    "    max_lead_time=max_lead_time - 1\n",
    ")\n",
    "\n",
    "print('\\n--- Running Final Comparison Simulations ---')\n",
    "for date in test_dates:\n",
    "    # Run a simulation for each policy on the same date\n",
    "    rl_revenue = run_simulation(env, rl_policy, date)\n",
    "    baseline_revenue = run_simulation(env, baseline_greedy_policy, date)\n",
    "    \n",
    "    rl_revenues.append(rl_revenue)\n",
    "    baseline_revenues.append(baseline_revenue)\n",
    "\n",
    "# --- Report Results ---\n",
    "avg_rl_revenue = np.mean(rl_revenues)\n",
    "avg_baseline_revenue = np.mean(baseline_revenues)\n",
    "\n",
    "print(f'\\nAverage RL Agent Revenue: ${avg_rl_revenue:,.2f}')\n",
    "print(f'Average Baseline (Greedy) Revenue: ${avg_baseline_revenue:,.2f}')\n",
    "\n",
    "if avg_baseline_revenue > 0:\n",
    "    improvement = (avg_rl_revenue - avg_baseline_revenue) / avg_baseline_revenue * 100\n",
    "    print(f'Improvement: {improvement:.2f}%')\n",
    "else:\n",
    "    print(\"Baseline revenue was zero, cannot calculate improvement.\")\n"
   ]
  }
 ],
 "metadata": {
  "kernelspec": {
   "display_name": ".venv",
   "language": "python",
   "name": "python3"
  },
  "language_info": {
   "codemirror_mode": {
    "name": "ipython",
    "version": 3
   },
   "file_extension": ".py",
   "mimetype": "text/x-python",
   "name": "python",
   "nbconvert_exporter": "python",
   "pygments_lexer": "ipython3",
   "version": "3.12.9"
  }
 },
 "nbformat": 4,
 "nbformat_minor": 2
}
