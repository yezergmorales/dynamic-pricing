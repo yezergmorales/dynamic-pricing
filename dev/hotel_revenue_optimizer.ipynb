{
 "cells": [
  {
   "cell_type": "markdown",
   "metadata": {},
   "source": [
    "### **imports**"
   ]
  },
  {
   "cell_type": "code",
   "execution_count": 85,
   "metadata": {},
   "outputs": [],
   "source": [
    "import os\n",
    "import pandas as pd\n",
    "import numpy as np\n",
    "import torch\n",
    "import torch.nn as nn\n",
    "from torch.utils.data import DataLoader, TensorDataset\n",
    "from sklearn.model_selection import KFold\n",
    "from sklearn.preprocessing import StandardScaler\n",
    "import matplotlib.pyplot as plt\n",
    "import datetime\n",
    "import seaborn as sns\n",
    "import plotly.graph_objects as go\n",
    "from plotly.subplots import make_subplots\n"
   ]
  },
  {
   "cell_type": "markdown",
   "metadata": {},
   "source": [
    "### **preprocessing**"
   ]
  },
  {
   "cell_type": "markdown",
   "metadata": {},
   "source": [
    "##### *pytorch model*"
   ]
  },
  {
   "cell_type": "code",
   "execution_count": 16,
   "metadata": {},
   "outputs": [],
   "source": [
    "# Neural network architecture for hotel price prediction\n",
    "# This network is designed to predict optimal hotel room prices based on various features\n",
    "# Key design choices:\n",
    "# 1. Small network (32 nodes) due to limited dataset size to prevent overfitting\n",
    "# 2. Two hidden layers to capture non-linear relationships in pricing factors\n",
    "# 3. Dropout (0.2) for regularization to improve generalization\n",
    "# 4. ReLU activation for non-linearity while avoiding vanishing gradients\n",
    "# 5. Single output node for price prediction (regression task)\n",
    "class Net(nn.Module):\n",
    "    def __init__(self, input_size):\n",
    "        super(Net, self).__init__()\n",
    "        # Smaller network since dataset appears to be relatively small (few thousand rows)\n",
    "        # First hidden layer reduced from 64 to 32 nodes\n",
    "        self.layer1 = nn.Linear(input_size, 32)\n",
    "        # Second hidden layer also reduced to 32 nodes to prevent overfitting\n",
    "        self.layer2 = nn.Linear(32, 32)\n",
    "        # Output layer remains 1 node for price prediction\n",
    "        self.output_layer = nn.Linear(32, 1)\n",
    "        # Added dropout for regularization\n",
    "        self.dropout = nn.Dropout(0.2)\n",
    "        self.relu = nn.ReLU()\n",
    "\n",
    "    def forward(self, x):\n",
    "        x = self.dropout(self.relu(self.layer1(x)))\n",
    "        x = self.dropout(self.relu(self.layer2(x)))\n",
    "        x = self.output_layer(x)\n",
    "        return x"
   ]
  },
  {
   "cell_type": "markdown",
   "metadata": {},
   "source": [
    "##### *generate synthetic data*"
   ]
  },
  {
   "cell_type": "code",
   "execution_count": 72,
   "metadata": {},
   "outputs": [
    {
     "name": "stdout",
     "output_type": "stream",
     "text": [
      "(65700, 6)\n"
     ]
    },
    {
     "data": {
      "text/html": [
       "<div>\n",
       "<style scoped>\n",
       "    .dataframe tbody tr th:only-of-type {\n",
       "        vertical-align: middle;\n",
       "    }\n",
       "\n",
       "    .dataframe tbody tr th {\n",
       "        vertical-align: top;\n",
       "    }\n",
       "\n",
       "    .dataframe thead th {\n",
       "        text-align: right;\n",
       "    }\n",
       "</style>\n",
       "<table border=\"1\" class=\"dataframe\">\n",
       "  <thead>\n",
       "    <tr style=\"text-align: right;\">\n",
       "      <th></th>\n",
       "      <th>booking_date</th>\n",
       "      <th>check_in_date</th>\n",
       "      <th>lead_time</th>\n",
       "      <th>price</th>\n",
       "      <th>bookings</th>\n",
       "      <th>available_rooms</th>\n",
       "    </tr>\n",
       "  </thead>\n",
       "  <tbody>\n",
       "    <tr>\n",
       "      <th>0</th>\n",
       "      <td>2020-11-03</td>\n",
       "      <td>2021-01-01</td>\n",
       "      <td>59</td>\n",
       "      <td>199.976594</td>\n",
       "      <td>31</td>\n",
       "      <td>100</td>\n",
       "    </tr>\n",
       "    <tr>\n",
       "      <th>1</th>\n",
       "      <td>2020-11-04</td>\n",
       "      <td>2021-01-01</td>\n",
       "      <td>58</td>\n",
       "      <td>110.478446</td>\n",
       "      <td>69</td>\n",
       "      <td>69</td>\n",
       "    </tr>\n",
       "    <tr>\n",
       "      <th>2</th>\n",
       "      <td>2020-11-04</td>\n",
       "      <td>2021-01-02</td>\n",
       "      <td>59</td>\n",
       "      <td>192.377553</td>\n",
       "      <td>35</td>\n",
       "      <td>100</td>\n",
       "    </tr>\n",
       "    <tr>\n",
       "      <th>3</th>\n",
       "      <td>2020-11-05</td>\n",
       "      <td>2021-01-01</td>\n",
       "      <td>57</td>\n",
       "      <td>143.489749</td>\n",
       "      <td>0</td>\n",
       "      <td>0</td>\n",
       "    </tr>\n",
       "    <tr>\n",
       "      <th>4</th>\n",
       "      <td>2020-11-05</td>\n",
       "      <td>2021-01-02</td>\n",
       "      <td>58</td>\n",
       "      <td>162.221540</td>\n",
       "      <td>55</td>\n",
       "      <td>65</td>\n",
       "    </tr>\n",
       "  </tbody>\n",
       "</table>\n",
       "</div>"
      ],
      "text/plain": [
       "  booking_date check_in_date  lead_time       price  bookings  available_rooms\n",
       "0   2020-11-03    2021-01-01         59  199.976594        31              100\n",
       "1   2020-11-04    2021-01-01         58  110.478446        69               69\n",
       "2   2020-11-04    2021-01-02         59  192.377553        35              100\n",
       "3   2020-11-05    2021-01-01         57  143.489749         0                0\n",
       "4   2020-11-05    2021-01-02         58  162.221540        55               65"
      ]
     },
     "execution_count": 72,
     "metadata": {},
     "output_type": "execute_result"
    }
   ],
   "source": [
    "def generate_hotel_data(\n",
    "        num_days=365 * 3,\n",
    "        total_rooms=100,\n",
    "        start_date=datetime.date(2021, 1, 1),\n",
    "        max_lead_time=60):\n",
    "    \"\"\"\n",
    "    Generates more realistic synthetic hotel booking data with a wider price\n",
    "    distribution and more sensitive demand.\n",
    "    \"\"\"\n",
    "    dates = [start_date + datetime.timedelta(days=i) for i in range(num_days)]\n",
    "    data = []\n",
    "\n",
    "    # Simulate a daily base price trend to represent market fluctuations\n",
    "    daily_base_prices = {}\n",
    "    for check_in_date in dates:\n",
    "        # Sinusoidal wave for annual seasonality + some noise\n",
    "        market_seasonality = np.sin(2 * np.pi * check_in_date.timetuple().tm_yday / 365.25)\n",
    "        base_price = 150 + 30 * market_seasonality\n",
    "        base_price *= np.random.uniform(0.95, 1.05)  # Daily noise\n",
    "        daily_base_prices[check_in_date] = base_price\n",
    "\n",
    "    for check_in_date in dates:\n",
    "        # Simulate bookings made on different days for the same check_in_date\n",
    "        # Lead time: from 0 (same-day) to 60 days in advance\n",
    "        for lead_time_days in range(max_lead_time):\n",
    "            booking_date = check_in_date - datetime.timedelta(days=lead_time_days)\n",
    "\n",
    "            # Start with the daily base price\n",
    "            price = daily_base_prices[check_in_date]\n",
    "\n",
    "            # Price seasonality (weekends and summer are more expensive)\n",
    "            if check_in_date.weekday() >= 4:  # Friday, Saturday, Sunday\n",
    "                price *= 1.25\n",
    "            if 6 <= check_in_date.month <= 8:  # Summer months\n",
    "                price *= 1.4\n",
    "\n",
    "            # Add lead time adjustment: prices are slightly lower for bookings made further in advance.\n",
    "            price *= 1 - 0.15 * (lead_time_days / (max_lead_time - 1.0))\n",
    "\n",
    "            # Add significant random price fluctuation for each booking instance\n",
    "            # to ensure the model sees a wide range of prices.\n",
    "            price *= np.random.uniform(0.7, 1.5)\n",
    "            price = max(70, price)  # Set a minimum realistic price\n",
    "\n",
    "            # Demand is a function of price (higher price, lower demand)\n",
    "            # and other factors (e.g. seasonality)\n",
    "            base_demand = 45  # Increased base demand\n",
    "            if check_in_date.weekday() >= 4:\n",
    "                base_demand *= 1.8  # Increased weekend effect\n",
    "            if 6 <= check_in_date.month <= 8:\n",
    "                base_demand *= 1.6  # Increased summer effect\n",
    "\n",
    "            # Modified lead time factor to increase bookings closer to check-in date\n",
    "            # Using an exponential decay function that decreases with lead time\n",
    "            lead_time_demand_factor = np.exp(-lead_time_days / 15)  # Steeper decay for early bookings\n",
    "            base_demand *= (1 + 2.0 * lead_time_demand_factor)  # Boost demand more for shorter lead times\n",
    "\n",
    "            # A more sensitive demand function, as requested\n",
    "            price_sensitivity = 1.2  # Increased sensitivity\n",
    "            reference_price = 120  # A lower reference price where demand is high\n",
    "            demand_at_price = base_demand * np.exp(-price_sensitivity * (price - reference_price) / reference_price)\n",
    "            demand_at_price = max(0, demand_at_price)\n",
    "\n",
    "            # Simulate number of bookings based on demand\n",
    "            # Add some noise\n",
    "            bookings = int(np.random.poisson(demand_at_price))\n",
    "\n",
    "            # For simplicity, we assume we can observe the \"intended\" number of bookings for a price\n",
    "            # In a real scenario, this would be capped by available rooms.\n",
    "            # The model's task is to learn this latent demand function.\n",
    "            lead_time_days = check_in_date - booking_date\n",
    "            lead_time_days = lead_time_days.days\n",
    "\n",
    "            data.append(\n",
    "                {\n",
    "                    \"booking_date\": booking_date,\n",
    "                    \"check_in_date\": check_in_date,\n",
    "                    \"lead_time\": lead_time_days,\n",
    "                    \"price\": price,\n",
    "                    \"bookings\": bookings,\n",
    "                }\n",
    "            )\n",
    "\n",
    "    df = pd.DataFrame(data)\n",
    "\n",
    "    # Calculate available rooms on booking date\n",
    "    # This is a simplification. A real calculation would be more complex.\n",
    "    df = df.sort_values(by=[\"booking_date\", \"check_in_date\"]).reset_index(drop=True)\n",
    "    df[\"total_booked_for_check_in\"] = df.groupby(\"check_in_date\")[\"bookings\"].cumsum()\n",
    "    df[\"available_rooms\"] = total_rooms - (df[\"total_booked_for_check_in\"] - df[\"bookings\"])\n",
    "    df.loc[df[\"available_rooms\"] < 0, \"available_rooms\"] = 0\n",
    "\n",
    "    # Cap bookings by available rooms\n",
    "    df[\"bookings\"] = df.apply(lambda row: min(row[\"bookings\"], row[\"available_rooms\"]), axis=1)\n",
    "\n",
    "    return df.drop(columns=[\"total_booked_for_check_in\"])\n",
    "\n",
    "total_rooms=100\n",
    "max_lead_time=60\n",
    "df = generate_hotel_data(total_rooms=total_rooms, max_lead_time=max_lead_time)\n",
    "print(df.shape)\n",
    "df.head()"
   ]
  },
  {
   "cell_type": "code",
   "execution_count": 73,
   "metadata": {},
   "outputs": [
    {
     "data": {
      "image/png": "[encoded data removed]",
      "text/plain": [
       "<Figure size 1400x700 with 1 Axes>"
      ]
     },
     "metadata": {},
     "output_type": "display_data"
    }
   ],
   "source": [
    "# Now, let's create a plot to visualize how the average price changes with the lead time.\n",
    "# A line plot is a good choice here as it can show the trend clearly.\n",
    "plt.figure(figsize=(14, 7))\n",
    "sns.lineplot(data=df, x=\"lead_time\", y=\"price\", errorbar=(\"ci\", 95))\n",
    "\n",
    "plt.title(\"Average Price Variation by Lead Time\", fontsize=16)\n",
    "plt.xlabel(\"Lead Time (days before check-in)\", fontsize=12)\n",
    "plt.ylabel(\"Average Price\", fontsize=12)\n",
    "plt.grid(True, which=\"both\", linestyle=\"--\", linewidth=0.5)\n",
    "\n",
    "# It's often intuitive to see time progressing from left to right.\n",
    "# By inverting the x-axis, we can see the pricing strategy as the check-in date approaches.\n",
    "plt.gca().invert_xaxis()\n",
    "\n",
    "plt.show()\n"
   ]
  },
  {
   "cell_type": "code",
   "execution_count": 74,
   "metadata": {},
   "outputs": [
    {
     "data": {
      "image/png": "[encoded data removed]",
      "text/plain": [
       "<Figure size 1400x700 with 1 Axes>"
      ]
     },
     "metadata": {},
     "output_type": "display_data"
    }
   ],
   "source": [
    "# Let's also visualize how the number of bookings changes with the lead time.\n",
    "# This can give us insights into booking patterns.\n",
    "plt.figure(figsize=(14, 7))\n",
    "sns.lineplot(data=df, x=\"lead_time\", y=\"bookings\", errorbar=(\"ci\", 95))\n",
    "\n",
    "plt.title(\"Number of Bookings vs. Lead Time\", fontsize=16)\n",
    "plt.xlabel(\"Lead Time (days before check-in)\", fontsize=12)\n",
    "plt.ylabel(\"Number of Bookings\", fontsize=12)\n",
    "plt.grid(True, which=\"both\", linestyle=\"--\", linewidth=0.5)\n",
    "\n",
    "# Inverting the x-axis to see the trend as the check-in date approaches.\n",
    "plt.gca().invert_xaxis()\n",
    "\n",
    "plt.show()\n"
   ]
  },
  {
   "cell_type": "markdown",
   "metadata": {},
   "source": [
    "##### *feature engineering*"
   ]
  },
  {
   "cell_type": "code",
   "execution_count": 75,
   "metadata": {},
   "outputs": [
    {
     "data": {
      "text/html": [
       "<div>\n",
       "<style scoped>\n",
       "    .dataframe tbody tr th:only-of-type {\n",
       "        vertical-align: middle;\n",
       "    }\n",
       "\n",
       "    .dataframe tbody tr th {\n",
       "        vertical-align: top;\n",
       "    }\n",
       "\n",
       "    .dataframe thead th {\n",
       "        text-align: right;\n",
       "    }\n",
       "</style>\n",
       "<table border=\"1\" class=\"dataframe\">\n",
       "  <thead>\n",
       "    <tr style=\"text-align: right;\">\n",
       "      <th></th>\n",
       "      <th>booking_date</th>\n",
       "      <th>check_in_date</th>\n",
       "      <th>lead_time</th>\n",
       "      <th>price</th>\n",
       "      <th>bookings</th>\n",
       "      <th>available_rooms</th>\n",
       "      <th>check_in_day_of_week</th>\n",
       "      <th>check_in_month</th>\n",
       "      <th>check_in_year</th>\n",
       "    </tr>\n",
       "  </thead>\n",
       "  <tbody>\n",
       "    <tr>\n",
       "      <th>0</th>\n",
       "      <td>2020-11-03</td>\n",
       "      <td>2021-01-01</td>\n",
       "      <td>59</td>\n",
       "      <td>199.976594</td>\n",
       "      <td>31</td>\n",
       "      <td>100</td>\n",
       "      <td>4</td>\n",
       "      <td>1</td>\n",
       "      <td>2021</td>\n",
       "    </tr>\n",
       "    <tr>\n",
       "      <th>1</th>\n",
       "      <td>2020-11-04</td>\n",
       "      <td>2021-01-01</td>\n",
       "      <td>58</td>\n",
       "      <td>110.478446</td>\n",
       "      <td>69</td>\n",
       "      <td>69</td>\n",
       "      <td>4</td>\n",
       "      <td>1</td>\n",
       "      <td>2021</td>\n",
       "    </tr>\n",
       "    <tr>\n",
       "      <th>2</th>\n",
       "      <td>2020-11-04</td>\n",
       "      <td>2021-01-02</td>\n",
       "      <td>59</td>\n",
       "      <td>192.377553</td>\n",
       "      <td>35</td>\n",
       "      <td>100</td>\n",
       "      <td>5</td>\n",
       "      <td>1</td>\n",
       "      <td>2021</td>\n",
       "    </tr>\n",
       "    <tr>\n",
       "      <th>3</th>\n",
       "      <td>2020-11-05</td>\n",
       "      <td>2021-01-01</td>\n",
       "      <td>57</td>\n",
       "      <td>143.489749</td>\n",
       "      <td>0</td>\n",
       "      <td>0</td>\n",
       "      <td>4</td>\n",
       "      <td>1</td>\n",
       "      <td>2021</td>\n",
       "    </tr>\n",
       "    <tr>\n",
       "      <th>4</th>\n",
       "      <td>2020-11-05</td>\n",
       "      <td>2021-01-02</td>\n",
       "      <td>58</td>\n",
       "      <td>162.221540</td>\n",
       "      <td>55</td>\n",
       "      <td>65</td>\n",
       "      <td>5</td>\n",
       "      <td>1</td>\n",
       "      <td>2021</td>\n",
       "    </tr>\n",
       "  </tbody>\n",
       "</table>\n",
       "</div>"
      ],
      "text/plain": [
       "  booking_date check_in_date  lead_time       price  bookings  \\\n",
       "0   2020-11-03    2021-01-01         59  199.976594        31   \n",
       "1   2020-11-04    2021-01-01         58  110.478446        69   \n",
       "2   2020-11-04    2021-01-02         59  192.377553        35   \n",
       "3   2020-11-05    2021-01-01         57  143.489749         0   \n",
       "4   2020-11-05    2021-01-02         58  162.221540        55   \n",
       "\n",
       "   available_rooms  check_in_day_of_week  check_in_month  check_in_year  \n",
       "0              100                     4               1           2021  \n",
       "1               69                     4               1           2021  \n",
       "2              100                     5               1           2021  \n",
       "3                0                     4               1           2021  \n",
       "4               65                     5               1           2021  "
      ]
     },
     "execution_count": 75,
     "metadata": {},
     "output_type": "execute_result"
    }
   ],
   "source": [
    "def feature_engineering(df):\n",
    "    \"\"\"\n",
    "    Creates features from the raw data.\n",
    "    \"\"\"\n",
    "    df[\"booking_date\"] = pd.to_datetime(df[\"booking_date\"])\n",
    "    df[\"check_in_date\"] = pd.to_datetime(df[\"check_in_date\"])\n",
    "    df[\"check_in_day_of_week\"] = df[\"check_in_date\"].dt.dayofweek\n",
    "    df[\"check_in_month\"] = df[\"check_in_date\"].dt.month\n",
    "    df[\"check_in_year\"] = df[\"check_in_date\"].dt.year\n",
    "\n",
    "    return df\n",
    "\n",
    "df = feature_engineering(df)\n",
    "df.head()"
   ]
  },
  {
   "cell_type": "markdown",
   "metadata": {},
   "source": [
    "### **training**"
   ]
  },
  {
   "cell_type": "markdown",
   "metadata": {},
   "source": [
    "##### cross validation"
   ]
  },
  {
   "cell_type": "markdown",
   "metadata": {},
   "source": [
    "A Practical Note for Your Large Dataset\n",
    "With millions of data points, performing full k-fold cross-validation is extremely computationally expensive. For each of the 'k' folds, you have to retrain your neural network from scratch.In scenarios with very large datasets like yours, a traditional single train/validation/test split is often sufficient and more practical. A randomly selected validation set of 10-15% of millions of records is almost certainly large and representative enough to give you a reliable estimate of performance and to detect overfitting using the Early Stopping technique we discussed earlier. Cross-validation is most critical when your dataset is small or medium-sized, where the risk of an \"unlucky\" split creating a non-representative validation set is much higher.\n"
   ]
  },
  {
   "cell_type": "code",
   "execution_count": null,
   "metadata": {},
   "outputs": [
    {
     "name": "stdout",
     "output_type": "stream",
     "text": [
      "--- Using device: cpu ---\n",
      "\n",
      "=== Testing configuration: {'lr': 0.001, 'weight_decay': 0.0, 'patience': 10, 'batch_size': 256, 'epochs': 100} ===\n",
      "\n",
      "--- Fold 1/5 ---\n",
      "\n",
      "--- Fold 2/5 ---\n",
      "\n",
      "--- Fold 3/5 ---\n",
      "\n",
      "--- Fold 4/5 ---\n",
      "\n",
      "--- Fold 5/5 ---\n",
      "\n",
      "--- Configuration Summary ---\n",
      "Average Loss (MSE): 1.5574\n",
      "Standard Deviation: 0.0983\n",
      "\n",
      "=== Testing configuration: {'lr': 0.001, 'weight_decay': 0.01, 'patience': 15, 'batch_size': 256, 'epochs': 100} ===\n",
      "\n",
      "--- Fold 1/5 ---\n",
      "\n",
      "--- Fold 2/5 ---\n",
      "\n",
      "--- Fold 3/5 ---\n",
      "\n",
      "--- Fold 4/5 ---\n",
      "\n",
      "--- Fold 5/5 ---\n",
      "\n",
      "--- Configuration Summary ---\n",
      "Average Loss (MSE): 2.1841\n",
      "Standard Deviation: 0.2225\n",
      "\n",
      "=== Testing configuration: {'lr': 0.001, 'weight_decay': 0.001, 'patience': 20, 'batch_size': 256, 'epochs': 100} ===\n",
      "\n",
      "--- Fold 1/5 ---\n",
      "\n",
      "--- Fold 2/5 ---\n",
      "\n",
      "--- Fold 3/5 ---\n",
      "\n",
      "--- Fold 4/5 ---\n",
      "\n",
      "--- Fold 5/5 ---\n",
      "\n",
      "--- Configuration Summary ---\n",
      "Average Loss (MSE): 1.6300\n",
      "Standard Deviation: 0.2045\n",
      "\n",
      "=== Final Results ===\n",
      "Best configuration: {'lr': 0.001, 'weight_decay': 0.0, 'patience': 10, 'batch_size': 256, 'epochs': 100}\n",
      "Best average MSE: 1.5574\n"
     ]
    }
   ],
   "source": [
    "#vars\n",
    "features = [\n",
    "    \"price\",\n",
    "    \"lead_time\", \n",
    "    \"check_in_day_of_week\",\n",
    "    \"check_in_month\",\n",
    "    \"available_rooms\",\n",
    "]\n",
    "target = \"bookings\"\n",
    "n_splits = 5\n",
    "\n",
    "# Hyperparameter configurations to try\n",
    "configs = [\n",
    "    # Start with a baseline configuration with moderate patience\n",
    "    {'lr': 0.001, 'weight_decay': 0.0, 'patience': 10, 'batch_size': 256, 'epochs': 100},\n",
    "    \n",
    "    # Try longer patience to ensure we're not stopping too early\n",
    "    {'lr': 0.001, 'weight_decay': 0.01, 'patience': 15, 'batch_size': 256, 'epochs': 100},\n",
    "    \n",
    "    # Test very patient stopping to catch slow convergence\n",
    "    {'lr': 0.001, 'weight_decay': 0.001, 'patience': 20, 'batch_size': 256, 'epochs': 100},\n",
    "]\n",
    "\n",
    "# --- PyTorch Setup ---\n",
    "device = torch.device(\"cuda\" if torch.cuda.is_available() else \"cpu\")\n",
    "print(f\"--- Using device: {device} ---\")\n",
    "\n",
    "# Define features and target\n",
    "X = df[features].values\n",
    "y = df[target].values.reshape(-1, 1)  # Reshape for PyTorch loss function\n",
    "\n",
    "# --- K-Fold Cross-Validation for each configuration ---\n",
    "kf = KFold(n_splits=n_splits, shuffle=True, random_state=42)\n",
    "\n",
    "best_config = None\n",
    "best_score = float('inf')\n",
    "\n",
    "for config in configs:\n",
    "    print(f\"\\n=== Testing configuration: {config} ===\")\n",
    "    all_scores = []\n",
    "    \n",
    "    for i, (train_index, test_index) in enumerate(kf.split(X)):\n",
    "        print(f\"\\n--- Fold {i+1}/{n_splits} ---\")\n",
    "        X_train, X_test = X[train_index], X[test_index]\n",
    "        y_train, y_test = y[train_index], y[test_index]\n",
    "\n",
    "        # Scale features for this fold\n",
    "        scaler = StandardScaler()\n",
    "        X_train_scaled = scaler.fit_transform(X_train)\n",
    "        X_test_scaled = scaler.transform(X_test)\n",
    "\n",
    "        # Convert to PyTorch Tensors\n",
    "        X_train_tensor = torch.tensor(X_train_scaled, dtype=torch.float32)\n",
    "        y_train_tensor = torch.tensor(y_train, dtype=torch.float32)\n",
    "        X_test_tensor = torch.tensor(X_test_scaled, dtype=torch.float32)\n",
    "        y_test_tensor = torch.tensor(y_test, dtype=torch.float32)\n",
    "\n",
    "        # Create DataLoader\n",
    "        train_dataset = TensorDataset(X_train_tensor, y_train_tensor)\n",
    "        train_loader = DataLoader(train_dataset, batch_size=256, shuffle=True)\n",
    "\n",
    "        # Build a new model for each fold\n",
    "        model = Net(input_size=len(features)).to(device)\n",
    "        criterion = nn.MSELoss()\n",
    "        optimizer = torch.optim.Adam(\n",
    "            model.parameters(), \n",
    "            lr=config['lr'],\n",
    "            weight_decay=config['weight_decay']\n",
    "        )\n",
    "\n",
    "        # Early stopping setup\n",
    "        best_val_loss = float('inf')\n",
    "        patience_counter = 0\n",
    "        \n",
    "        # print(\"Training the model for evaluation...\")\n",
    "        model.train()\n",
    "        for epoch in range(100):  # Increased max epochs, will stop early if needed\n",
    "            epoch_loss = 0\n",
    "            for batch_X, batch_y in train_loader:\n",
    "                batch_X, batch_y = batch_X.to(device), batch_y.to(device)\n",
    "\n",
    "                # Forward pass\n",
    "                outputs = model(batch_X)\n",
    "                loss = criterion(outputs, batch_y)\n",
    "                epoch_loss += loss.item()\n",
    "\n",
    "                # Backward and optimize\n",
    "                optimizer.zero_grad()\n",
    "                loss.backward()\n",
    "                optimizer.step()\n",
    "\n",
    "            # Validation phase\n",
    "            model.eval()\n",
    "            with torch.no_grad():\n",
    "                X_test_tensor = X_test_tensor.to(device)\n",
    "                y_test_tensor = y_test_tensor.to(device)\n",
    "                val_predictions = model(X_test_tensor)\n",
    "                val_loss = criterion(val_predictions, y_test_tensor).item()\n",
    "            \n",
    "            # Early stopping check\n",
    "            if val_loss < best_val_loss:\n",
    "                best_val_loss = val_loss\n",
    "                patience_counter = 0\n",
    "            else:\n",
    "                patience_counter += 1\n",
    "                \n",
    "            if patience_counter >= config['patience']:\n",
    "                print(f\"Early stopping at epoch {epoch}\")\n",
    "                break\n",
    "                \n",
    "            model.train()\n",
    "\n",
    "        # print(f\"Fold {i+1} Loss (MSE): {best_val_loss}\")\n",
    "        all_scores.append(best_val_loss)\n",
    "\n",
    "    avg_score = np.mean(all_scores)\n",
    "    print(\"\\n--- Configuration Summary ---\")\n",
    "    print(f\"Average Loss (MSE): {avg_score:.4f}\")\n",
    "    print(f\"Standard Deviation: {np.std(all_scores):.4f}\")\n",
    "    \n",
    "    if avg_score < best_score:\n",
    "        best_score = avg_score\n",
    "        best_config = config\n",
    "\n",
    "print(\"\\n=== Final Results ===\")\n",
    "print(f\"Best configuration: {best_config}\")\n",
    "print(f\"Best average MSE: {best_score:.4f}\")"
   ]
  },
  {
   "cell_type": "markdown",
   "metadata": {},
   "source": [
    "##### training the best model over the whole dataset"
   ]
  },
  {
   "cell_type": "code",
   "execution_count": 79,
   "metadata": {},
   "outputs": [],
   "source": [
    "best_config = {'lr': 0.001, 'weight_decay': 0.0, 'patience': 10, 'batch_size': 256, 'epochs': 100}"
   ]
  },
  {
   "cell_type": "code",
   "execution_count": 120,
   "metadata": {},
   "outputs": [
    {
     "name": "stdout",
     "output_type": "stream",
     "text": [
      "\n",
      "--- Training Final Model on Entire Dataset ---\n",
      "Epoch [10/100], Loss (MSE): 3.3052\n",
      "Epoch [20/100], Loss (MSE): 2.7153\n",
      "Epoch [30/100], Loss (MSE): 2.2871\n",
      "Epoch [40/100], Loss (MSE): 2.0098\n",
      "Epoch [50/100], Loss (MSE): 1.9168\n",
      "Epoch [60/100], Loss (MSE): 1.8465\n",
      "Epoch [70/100], Loss (MSE): 1.7727\n",
      "Epoch [80/100], Loss (MSE): 1.6468\n",
      "Epoch [90/100], Loss (MSE): 1.5715\n",
      "Epoch [100/100], Loss (MSE): 1.5053\n"
     ]
    },
    {
     "data": {
      "application/vnd.plotly.v1+json": {
       "config": {
        "plotlyServerURL": "https://plot.ly"
       },
       "data": [
        {
         "mode": "lines",
         "name": "Training Loss",
         "type": "scatter",
         "x": [
          1,
          2,
          3,
          4,
          5,
          6,
          7,
          8,
          9,
          10,
          11,
          12,
          13,
          14,
          15,
          16,
          17,
          18,
          19,
          20,
          21,
          22,
          23,
          24,
          25,
          26,
          27,
          28,
          29,
          30,
          31,
          32,
          33,
          34,
          35,
          36,
          37,
          38,
          39,
          40,
          41,
          42,
          43,
          44,
          45,
          46,
          47,
          48,
          49,
          50,
          51,
          52,
          53,
          54,
          55,
          56,
          57,
          58,
          59,
          60,
          61,
          62,
          63,
          64,
          65,
          66,
          67,
          68,
          69,
          70,
          71,
          72,
          73,
          74,
          75,
          76,
          77,
          78,
          79,
          80,
          81,
          82,
          83,
          84,
          85,
          86,
          87,
          88,
          89,
          90,
          91,
          92,
          93,
          94,
          95,
          96,
          97,
          98,
          99,
          100
         ],
         "y": [
          23.582504262488175,
          6.106057151978118,
          4.582021520759345,
          4.108786101413144,
          3.838554410039219,
          3.699357056664122,
          3.5709760836126274,
          3.4579956570951853,
          3.385103763541359,
          3.3052333084003935,
          3.2237586546036985,
          3.14976853381567,
          3.1115000981707053,
          3.019551023493017,
          2.966759906842551,
          2.9473188775754626,
          2.8644696700491794,
          2.825053010237356,
          2.8000397822504377,
          2.7152735550347935,
          2.701749230289274,
          2.62295775909832,
          2.600785430883155,
          2.533397617854961,
          2.5057476767074274,
          2.456952867253977,
          2.4120614112351193,
          2.3345166539867566,
          2.338683354512495,
          2.2870545976066867,
          2.2758272092514003,
          2.2249481961536963,
          2.1695569765243086,
          2.1631386208235637,
          2.120869064841289,
          2.103818891693182,
          2.095150551994255,
          2.0568224557526844,
          2.0607052206529253,
          2.0097663997734103,
          1.9878276112826418,
          2.0037636567298542,
          1.9820998959562195,
          1.9729657441029753,
          1.9589883888625914,
          1.9819782290187327,
          1.9615913628952049,
          1.956171932851294,
          1.925000502905493,
          1.9168124812934186,
          1.9026437402351357,
          1.8981668565291838,
          1.9042792958914074,
          1.9052603507871062,
          1.876136692472759,
          1.8842335321617962,
          1.8578234391453665,
          1.8521813745628535,
          1.8379276660397823,
          1.8465185323114062,
          1.8381478209555844,
          1.8133447825154905,
          1.8283423610350502,
          1.8163849346281722,
          1.8205902671535654,
          1.7868193795592868,
          1.7738110903172177,
          1.760988635920597,
          1.7521021911722212,
          1.772691948911907,
          1.7354950445490356,
          1.7355792014515354,
          1.7465754104959361,
          1.7183049961866572,
          1.707172251020192,
          1.6911020369381293,
          1.713561128172661,
          1.674138175374339,
          1.6682502140620803,
          1.6467566189540963,
          1.6422440364435025,
          1.6597452713357799,
          1.6129564403733854,
          1.6123164554746234,
          1.630336883756901,
          1.5891898824373107,
          1.603883343404485,
          1.5697080105079286,
          1.574502274973847,
          1.5715181750430207,
          1.557296447252949,
          1.53482263899093,
          1.549120306185943,
          1.5287038254830625,
          1.5086937236240865,
          1.5294087169119357,
          1.5134154122453256,
          1.4983726112237237,
          1.51240686277935,
          1.5053177161091496
         ]
        }
       ],
       "layout": {
        "height": 400,
        "showlegend": true,
        "template": {
         "data": {
          "bar": [
           {
            "error_x": {
             "color": "#2a3f5f"
            },
            "error_y": {
             "color": "#2a3f5f"
            },
            "marker": {
             "line": {
              "color": "#E5ECF6",
              "width": 0.5
             },
             "pattern": {
              "fillmode": "overlay",
              "size": 10,
              "solidity": 0.2
             }
            },
            "type": "bar"
           }
          ],
          "barpolar": [
           {
            "marker": {
             "line": {
              "color": "#E5ECF6",
              "width": 0.5
             },
             "pattern": {
              "fillmode": "overlay",
              "size": 10,
              "solidity": 0.2
             }
            },
            "type": "barpolar"
           }
          ],
          "carpet": [
           {
            "aaxis": {
             "endlinecolor": "#2a3f5f",
             "gridcolor": "white",
             "linecolor": "white",
             "minorgridcolor": "white",
             "startlinecolor": "#2a3f5f"
            },
            "baxis": {
             "endlinecolor": "#2a3f5f",
             "gridcolor": "white",
             "linecolor": "white",
             "minorgridcolor": "white",
             "startlinecolor": "#2a3f5f"
            },
            "type": "carpet"
           }
          ],
          "choropleth": [
           {
            "colorbar": {
             "outlinewidth": 0,
             "ticks": ""
            },
            "type": "choropleth"
           }
          ],
          "contour": [
           {
            "colorbar": {
             "outlinewidth": 0,
             "ticks": ""
            },
            "colorscale": [
             [
              0,
              "#0d0887"
             ],
             [
              0.1111111111111111,
              "#46039f"
             ],
             [
              0.2222222222222222,
              "#7201a8"
             ],
             [
              0.3333333333333333,
              "#9c179e"
             ],
             [
              0.4444444444444444,
              "#bd3786"
             ],
             [
              0.5555555555555556,
              "#d8576b"
             ],
             [
              0.6666666666666666,
              "#ed7953"
             ],
             [
              0.7777777777777778,
              "#fb9f3a"
             ],
             [
              0.8888888888888888,
              "#fdca26"
             ],
             [
              1,
              "#f0f921"
             ]
            ],
            "type": "contour"
           }
          ],
          "contourcarpet": [
           {
            "colorbar": {
             "outlinewidth": 0,
             "ticks": ""
            },
            "type": "contourcarpet"
           }
          ],
          "heatmap": [
           {
            "colorbar": {
             "outlinewidth": 0,
             "ticks": ""
            },
            "colorscale": [
             [
              0,
              "#0d0887"
             ],
             [
              0.1111111111111111,
              "#46039f"
             ],
             [
              0.2222222222222222,
              "#7201a8"
             ],
             [
              0.3333333333333333,
              "#9c179e"
             ],
             [
              0.4444444444444444,
              "#bd3786"
             ],
             [
              0.5555555555555556,
              "#d8576b"
             ],
             [
              0.6666666666666666,
              "#ed7953"
             ],
             [
              0.7777777777777778,
              "#fb9f3a"
             ],
             [
              0.8888888888888888,
              "#fdca26"
             ],
             [
              1,
              "#f0f921"
             ]
            ],
            "type": "heatmap"
           }
          ],
          "histogram": [
           {
            "marker": {
             "pattern": {
              "fillmode": "overlay",
              "size": 10,
              "solidity": 0.2
             }
            },
            "type": "histogram"
           }
          ],
          "histogram2d": [
           {
            "colorbar": {
             "outlinewidth": 0,
             "ticks": ""
            },
            "colorscale": [
             [
              0,
              "#0d0887"
             ],
             [
              0.1111111111111111,
              "#46039f"
             ],
             [
              0.2222222222222222,
              "#7201a8"
             ],
             [
              0.3333333333333333,
              "#9c179e"
             ],
             [
              0.4444444444444444,
              "#bd3786"
             ],
             [
              0.5555555555555556,
              "#d8576b"
             ],
             [
              0.6666666666666666,
              "#ed7953"
             ],
             [
              0.7777777777777778,
              "#fb9f3a"
             ],
             [
              0.8888888888888888,
              "#fdca26"
             ],
             [
              1,
              "#f0f921"
             ]
            ],
            "type": "histogram2d"
           }
          ],
          "histogram2dcontour": [
           {
            "colorbar": {
             "outlinewidth": 0,
             "ticks": ""
            },
            "colorscale": [
             [
              0,
              "#0d0887"
             ],
             [
              0.1111111111111111,
              "#46039f"
             ],
             [
              0.2222222222222222,
              "#7201a8"
             ],
             [
              0.3333333333333333,
              "#9c179e"
             ],
             [
              0.4444444444444444,
              "#bd3786"
             ],
             [
              0.5555555555555556,
              "#d8576b"
             ],
             [
              0.6666666666666666,
              "#ed7953"
             ],
             [
              0.7777777777777778,
              "#fb9f3a"
             ],
             [
              0.8888888888888888,
              "#fdca26"
             ],
             [
              1,
              "#f0f921"
             ]
            ],
            "type": "histogram2dcontour"
           }
          ],
          "mesh3d": [
           {
            "colorbar": {
             "outlinewidth": 0,
             "ticks": ""
            },
            "type": "mesh3d"
           }
          ],
          "parcoords": [
           {
            "line": {
             "colorbar": {
              "outlinewidth": 0,
              "ticks": ""
             }
            },
            "type": "parcoords"
           }
          ],
          "pie": [
           {
            "automargin": true,
            "type": "pie"
           }
          ],
          "scatter": [
           {
            "fillpattern": {
             "fillmode": "overlay",
             "size": 10,
             "solidity": 0.2
            },
            "type": "scatter"
           }
          ],
          "scatter3d": [
           {
            "line": {
             "colorbar": {
              "outlinewidth": 0,
              "ticks": ""
             }
            },
            "marker": {
             "colorbar": {
              "outlinewidth": 0,
              "ticks": ""
             }
            },
            "type": "scatter3d"
           }
          ],
          "scattercarpet": [
           {
            "marker": {
             "colorbar": {
              "outlinewidth": 0,
              "ticks": ""
             }
            },
            "type": "scattercarpet"
           }
          ],
          "scattergeo": [
           {
            "marker": {
             "colorbar": {
              "outlinewidth": 0,
              "ticks": ""
             }
            },
            "type": "scattergeo"
           }
          ],
          "scattergl": [
           {
            "marker": {
             "colorbar": {
              "outlinewidth": 0,
              "ticks": ""
             }
            },
            "type": "scattergl"
           }
          ],
          "scattermap": [
           {
            "marker": {
             "colorbar": {
              "outlinewidth": 0,
              "ticks": ""
             }
            },
            "type": "scattermap"
           }
          ],
          "scattermapbox": [
           {
            "marker": {
             "colorbar": {
              "outlinewidth": 0,
              "ticks": ""
             }
            },
            "type": "scattermapbox"
           }
          ],
          "scatterpolar": [
           {
            "marker": {
             "colorbar": {
              "outlinewidth": 0,
              "ticks": ""
             }
            },
            "type": "scatterpolar"
           }
          ],
          "scatterpolargl": [
           {
            "marker": {
             "colorbar": {
              "outlinewidth": 0,
              "ticks": ""
             }
            },
            "type": "scatterpolargl"
           }
          ],
          "scatterternary": [
           {
            "marker": {
             "colorbar": {
              "outlinewidth": 0,
              "ticks": ""
             }
            },
            "type": "scatterternary"
           }
          ],
          "surface": [
           {
            "colorbar": {
             "outlinewidth": 0,
             "ticks": ""
            },
            "colorscale": [
             [
              0,
              "#0d0887"
             ],
             [
              0.1111111111111111,
              "#46039f"
             ],
             [
              0.2222222222222222,
              "#7201a8"
             ],
             [
              0.3333333333333333,
              "#9c179e"
             ],
             [
              0.4444444444444444,
              "#bd3786"
             ],
             [
              0.5555555555555556,
              "#d8576b"
             ],
             [
              0.6666666666666666,
              "#ed7953"
             ],
             [
              0.7777777777777778,
              "#fb9f3a"
             ],
             [
              0.8888888888888888,
              "#fdca26"
             ],
             [
              1,
              "#f0f921"
             ]
            ],
            "type": "surface"
           }
          ],
          "table": [
           {
            "cells": {
             "fill": {
              "color": "#EBF0F8"
             },
             "line": {
              "color": "white"
             }
            },
            "header": {
             "fill": {
              "color": "#C8D4E3"
             },
             "line": {
              "color": "white"
             }
            },
            "type": "table"
           }
          ]
         },
         "layout": {
          "annotationdefaults": {
           "arrowcolor": "#2a3f5f",
           "arrowhead": 0,
           "arrowwidth": 1
          },
          "autotypenumbers": "strict",
          "coloraxis": {
           "colorbar": {
            "outlinewidth": 0,
            "ticks": ""
           }
          },
          "colorscale": {
           "diverging": [
            [
             0,
             "#8e0152"
            ],
            [
             0.1,
             "#c51b7d"
            ],
            [
             0.2,
             "#de77ae"
            ],
            [
             0.3,
             "#f1b6da"
            ],
            [
             0.4,
             "#fde0ef"
            ],
            [
             0.5,
             "#f7f7f7"
            ],
            [
             0.6,
             "#e6f5d0"
            ],
            [
             0.7,
             "#b8e186"
            ],
            [
             0.8,
             "#7fbc41"
            ],
            [
             0.9,
             "#4d9221"
            ],
            [
             1,
             "#276419"
            ]
           ],
           "sequential": [
            [
             0,
             "#0d0887"
            ],
            [
             0.1111111111111111,
             "#46039f"
            ],
            [
             0.2222222222222222,
             "#7201a8"
            ],
            [
             0.3333333333333333,
             "#9c179e"
            ],
            [
             0.4444444444444444,
             "#bd3786"
            ],
            [
             0.5555555555555556,
             "#d8576b"
            ],
            [
             0.6666666666666666,
             "#ed7953"
            ],
            [
             0.7777777777777778,
             "#fb9f3a"
            ],
            [
             0.8888888888888888,
             "#fdca26"
            ],
            [
             1,
             "#f0f921"
            ]
           ],
           "sequentialminus": [
            [
             0,
             "#0d0887"
            ],
            [
             0.1111111111111111,
             "#46039f"
            ],
            [
             0.2222222222222222,
             "#7201a8"
            ],
            [
             0.3333333333333333,
             "#9c179e"
            ],
            [
             0.4444444444444444,
             "#bd3786"
            ],
            [
             0.5555555555555556,
             "#d8576b"
            ],
            [
             0.6666666666666666,
             "#ed7953"
            ],
            [
             0.7777777777777778,
             "#fb9f3a"
            ],
            [
             0.8888888888888888,
             "#fdca26"
            ],
            [
             1,
             "#f0f921"
            ]
           ]
          },
          "colorway": [
           "#636efa",
           "#EF553B",
           "#00cc96",
           "#ab63fa",
           "#FFA15A",
           "#19d3f3",
           "#FF6692",
           "#B6E880",
           "#FF97FF",
           "#FECB52"
          ],
          "font": {
           "color": "#2a3f5f"
          },
          "geo": {
           "bgcolor": "white",
           "lakecolor": "white",
           "landcolor": "#E5ECF6",
           "showlakes": true,
           "showland": true,
           "subunitcolor": "white"
          },
          "hoverlabel": {
           "align": "left"
          },
          "hovermode": "closest",
          "mapbox": {
           "style": "light"
          },
          "paper_bgcolor": "white",
          "plot_bgcolor": "#E5ECF6",
          "polar": {
           "angularaxis": {
            "gridcolor": "white",
            "linecolor": "white",
            "ticks": ""
           },
           "bgcolor": "#E5ECF6",
           "radialaxis": {
            "gridcolor": "white",
            "linecolor": "white",
            "ticks": ""
           }
          },
          "scene": {
           "xaxis": {
            "backgroundcolor": "#E5ECF6",
            "gridcolor": "white",
            "gridwidth": 2,
            "linecolor": "white",
            "showbackground": true,
            "ticks": "",
            "zerolinecolor": "white"
           },
           "yaxis": {
            "backgroundcolor": "#E5ECF6",
            "gridcolor": "white",
            "gridwidth": 2,
            "linecolor": "white",
            "showbackground": true,
            "ticks": "",
            "zerolinecolor": "white"
           },
           "zaxis": {
            "backgroundcolor": "#E5ECF6",
            "gridcolor": "white",
            "gridwidth": 2,
            "linecolor": "white",
            "showbackground": true,
            "ticks": "",
            "zerolinecolor": "white"
           }
          },
          "shapedefaults": {
           "line": {
            "color": "#2a3f5f"
           }
          },
          "ternary": {
           "aaxis": {
            "gridcolor": "white",
            "linecolor": "white",
            "ticks": ""
           },
           "baxis": {
            "gridcolor": "white",
            "linecolor": "white",
            "ticks": ""
           },
           "bgcolor": "#E5ECF6",
           "caxis": {
            "gridcolor": "white",
            "linecolor": "white",
            "ticks": ""
           }
          },
          "title": {
           "x": 0.05
          },
          "xaxis": {
           "automargin": true,
           "gridcolor": "white",
           "linecolor": "white",
           "ticks": "",
           "title": {
            "standoff": 15
           },
           "zerolinecolor": "white",
           "zerolinewidth": 2
          },
          "yaxis": {
           "automargin": true,
           "gridcolor": "white",
           "linecolor": "white",
           "ticks": "",
           "title": {
            "standoff": 15
           },
           "zerolinecolor": "white",
           "zerolinewidth": 2
          }
         }
        },
        "title": {
         "text": "Training Loss Over Time"
        },
        "width": 1000,
        "xaxis": {
         "title": {
          "text": "Epoch"
         }
        },
        "yaxis": {
         "title": {
          "text": "Loss (MSE)"
         }
        }
       }
      }
     },
     "metadata": {},
     "output_type": "display_data"
    }
   ],
   "source": [
    "# --- Final Model Training on Full Dataset ---\n",
    "# The loss in this code represents the Mean Squared Error (MSE) between predicted and actual values\n",
    "# MSE measures how far off our price predictions are from the true prices by:\n",
    "# 1. Taking the difference between predicted and actual prices\n",
    "# 2. Squaring these differences (to make all values positive and penalize larger errors more)\n",
    "# 3. Taking the average across all predictions\n",
    "# A lower MSE means our model is making more accurate price predictions\n",
    "print(\"\\n--- Training Final Model on Entire Dataset ---\")\n",
    "\n",
    "# 1. Create and fit the final scaler on all data\n",
    "final_scaler = StandardScaler()\n",
    "X_scaled = final_scaler.fit_transform(X)\n",
    "\n",
    "# 2. Convert full dataset to tensors\n",
    "X_tensor = torch.tensor(X_scaled, dtype=torch.float32)\n",
    "y_tensor = torch.tensor(y, dtype=torch.float32)\n",
    "\n",
    "# 3. DataLoader for final training\n",
    "full_dataset = TensorDataset(X_tensor, y_tensor)\n",
    "full_loader = DataLoader(full_dataset, batch_size=best_config['batch_size'], shuffle=True)\n",
    "\n",
    "# 4. Create the final model\n",
    "final_model = Net(input_size=len(features)).to(device)\n",
    "criterion = nn.MSELoss()  # Mean Squared Error loss function\n",
    "optimizer = torch.optim.Adam(final_model.parameters(), \n",
    "                           lr=best_config['lr'],\n",
    "                           weight_decay=best_config['weight_decay'])\n",
    "\n",
    "# 5. Train the final model on all data\n",
    "final_model.train()\n",
    "best_loss = float('inf')  # Track best (lowest) MSE seen so far\n",
    "patience_counter = 0\n",
    "loss_history = []  # Track loss values for plotting\n",
    "\n",
    "for epoch in range(best_config['epochs']):\n",
    "    epoch_loss = 0  # Accumulate MSE across all batches in epoch\n",
    "    for i, (batch_X, batch_y) in enumerate(full_loader):\n",
    "        batch_X, batch_y = batch_X.to(device), batch_y.to(device)\n",
    "\n",
    "        # Forward pass - get predictions and compute MSE\n",
    "        outputs = final_model(batch_X)\n",
    "        loss = criterion(outputs, batch_y)  # Calculate MSE for this batch\n",
    "        epoch_loss += loss.item()\n",
    "\n",
    "        # Backward and optimize - update model to reduce MSE\n",
    "        optimizer.zero_grad()\n",
    "        loss.backward()\n",
    "        optimizer.step()\n",
    "    \n",
    "    # Calculate average MSE across all batches\n",
    "    avg_loss = epoch_loss/len(full_loader)\n",
    "    loss_history.append(avg_loss)  # Store loss for plotting\n",
    "    \n",
    "    # Early stopping - if MSE stops improving, prevent overfitting\n",
    "    if avg_loss < best_loss:\n",
    "        best_loss = avg_loss\n",
    "        patience_counter = 0\n",
    "    else:\n",
    "        patience_counter += 1\n",
    "        \n",
    "    if patience_counter >= best_config['patience']:\n",
    "        print(f\"Early stopping at epoch {epoch+1}\")\n",
    "        break\n",
    "\n",
    "    # Print progress every 10 epochs\n",
    "    if (epoch + 1) % 10 == 0:\n",
    "        print(f\"Epoch [{epoch+1}/{best_config['epochs']}], Loss (MSE): {avg_loss:.4f}\")\n",
    "\n",
    "fig = go.Figure()\n",
    "fig.add_trace(go.Scatter(\n",
    "    x=list(range(1, len(loss_history) + 1)),\n",
    "    y=loss_history,\n",
    "    mode='lines',\n",
    "    name='Training Loss'\n",
    "))\n",
    "\n",
    "fig.update_layout(\n",
    "    title='Training Loss Over Time',\n",
    "    xaxis_title='Epoch',\n",
    "    yaxis_title='Loss (MSE)',\n",
    "    showlegend=True,\n",
    "    width=1000,\n",
    "    height=400\n",
    ")\n",
    "\n",
    "fig.show()"
   ]
  },
  {
   "cell_type": "markdown",
   "metadata": {},
   "source": [
    "##### plot demand revenue curve"
   ]
  },
  {
   "cell_type": "code",
   "execution_count": 121,
   "metadata": {},
   "outputs": [],
   "source": [
    "# --- Revenue Optimization (using the final model) ---\n",
    "def predict_demand(price, lead_time, check_in_date, available_rooms, model, scaler, device):\n",
    "    check_in_date = pd.to_datetime(check_in_date)\n",
    "    day_of_week = check_in_date.dayofweek\n",
    "    month = check_in_date.month\n",
    "\n",
    "    input_df = pd.DataFrame(\n",
    "        {\n",
    "            \"price\": [price],\n",
    "            \"lead_time\": [lead_time],\n",
    "            \"check_in_day_of_week\": [day_of_week],\n",
    "            \"check_in_month\": [month],\n",
    "            \"available_rooms\": [available_rooms],\n",
    "        }\n",
    "    )\n",
    "\n",
    "    # Ensure column order is the same\n",
    "    input_df = input_df[features]\n",
    "\n",
    "    input_scaled = scaler.transform(input_df.values)\n",
    "\n",
    "    # Convert to tensor and send to device\n",
    "    input_tensor = torch.tensor(input_scaled, dtype=torch.float32).to(device)\n",
    "\n",
    "    # Prediction\n",
    "    model.eval()  # Set model to evaluation mode\n",
    "    with torch.no_grad():\n",
    "        predicted_bookings = model(input_tensor).item()\n",
    "\n",
    "    return max(0, predicted_bookings)"
   ]
  },
  {
   "cell_type": "code",
   "execution_count": 122,
   "metadata": {},
   "outputs": [],
   "source": [
    "def plot_demand_revenue_curve(date_str, lead_time, available_rooms, model, scaler, device):\n",
    "    # We generate 100 prices from $50 to $500 to see how demand and revenue change.\n",
    "    prices = np.linspace(50, 500, 100)\n",
    "    demands = [predict_demand(p, lead_time, date_str, available_rooms, model, scaler, device) for p in prices]\n",
    "    revenues = [p * d for p, d in zip(prices, demands)]\n",
    "\n",
    "    optimal_price_index = np.argmax(revenues)\n",
    "    optimal_price = prices[optimal_price_index]\n",
    "    max_revenue = revenues[optimal_price_index]\n",
    "\n",
    "    # Create subplots\n",
    "    fig = make_subplots(\n",
    "        rows=1, cols=2, subplot_titles=[f\"Demand Curve for {date_str}\", f\"Revenue Curve for {date_str}\"]\n",
    "    )\n",
    "\n",
    "    # Plot Demand Curve\n",
    "    fig.add_trace(go.Scatter(x=prices, y=demands, name=\"Demand\"), row=1, col=1)\n",
    "\n",
    "    # Plot Revenue Curve\n",
    "    fig.add_trace(go.Scatter(x=prices, y=revenues, name=\"Revenue\"), row=1, col=2)\n",
    "\n",
    "    # Add vertical line for optimal price\n",
    "    fig.add_vline(\n",
    "        x=optimal_price,\n",
    "        line_dash=\"dash\",\n",
    "        line_color=\"red\",\n",
    "        row=1,\n",
    "        col=2,\n",
    "        annotation_text=f\"Optimal Price: ${optimal_price:.2f}<br>Max Revenue: ${max_revenue:.2f}\",\n",
    "        annotation_position=\"top right\",\n",
    "    )\n",
    "\n",
    "    # Update layout\n",
    "    fig.update_layout(showlegend=True, width=1000, height=400)\n",
    "\n",
    "    # Update axes labels\n",
    "    fig.update_xaxes(title_text=\"Price ($)\", row=1, col=1)\n",
    "    fig.update_xaxes(title_text=\"Price ($)\", row=1, col=2)\n",
    "    fig.update_yaxes(title_text=\"Predicted Bookings\", row=1, col=1)\n",
    "    fig.update_yaxes(title_text=\"Predicted Revenue ($)\", row=1, col=2)\n",
    "\n",
    "    fig.show()\n"
   ]
  },
  {
   "cell_type": "code",
   "execution_count": 142,
   "metadata": {},
   "outputs": [
    {
     "name": "stdout",
     "output_type": "stream",
     "text": [
      "\n",
      "--- Optimizing Revenue for a Specific Day ---\n"
     ]
    },
    {
     "data": {
      "application/vnd.plotly.v1+json": {
       "config": {
        "plotlyServerURL": "https://plot.ly"
       },
       "data": [
        {
         "name": "Demand",
         "type": "scatter",
         "x": {
          "bdata": "AAAAAAAASUBGF1100UVLQIwuuuiii01A0kUXXXTRT0CMLrroogtRQC+66KKLLlJA0kUXXXRRU0B00UUXXXRUQBhddNFFl1VAuuiiiy66VkBedNFFF91XQAAAAAAAAFlAo4suuugiWkBGF1100UVbQOmiiy66aFxAjC666KKLXUAvuuiii65eQNJFF1100V9Auuiiiy56YECMLrroogthQF500UUXnWFAL7rooosuYkAAAAAAAMBiQNJFF110UWNAo4suuujiY0B00UUXXXRkQEYXXXTRBWVAGF100UWXZUDpoosuuihmQLvooosuumZAjC666KJLZ0BedNFFF91nQC+66KKLbmhAAAAAAAAAaUDSRRdddJFpQKOLLrroImpAddFFF120akBGF1100UVrQBhddNFF12tA6aKLLrpobEC76KKLLvpsQIwuuuiii21AXnTRRRcdbkAvuuiii65uQAEAAAAAQG9A0kUXXXTRb0DSRRdddDFwQLrooosuenBAo4suuujCcECMLrroogtxQHTRRRddVHFAXnTRRRedcUBGF1100eVxQC+66KKLLnJAGF100UV3ckAAAAAAAMByQOmiiy66CHNA0kUXXXRRc0C76KKLLppzQKOLLrro4nNAjC666KIrdEB10UUXXXR0QF500UUXvXRARhdddNEFdUAvuuiii051QBhddNFFl3VAAAAAAADgdUDpoosuuih2QNJFF110cXZAu+iiiy66dkCjiy666AJ3QIwuuuiiS3dAddFFF12Ud0BedNFFF913QEYXXXTRJXhAL7roootueEAYXXTRRbd4QAEAAAAAAHlA6aKLLrpIeUDSRRdddJF5QLvooosu2nlAo4suuugiekCMLrroomt6QHXRRRddtHpAXnTRRRf9ekBGF1100UV7QC+66KKLjntAGF100UXXe0ABAAAAACB8QOmiiy66aHxA0kUXXXSxfEC76KKLLvp8QKSLLrroQn1AjC666KKLfUB10UUXXdR9QF500UUXHX5ARhdddNFlfkAvuuiii65+QBhddNFF935AAAAAAABAf0A=",
          "dtype": "f8"
         },
         "xaxis": "x",
         "y": [
          70.6431884765625,
          69.69446563720703,
          68.69966888427734,
          67.51994323730469,
          66.2740478515625,
          64.79785919189453,
          63.169288635253906,
          61.38446807861328,
          59.56602478027344,
          57.74629211425781,
          55.942420959472656,
          54.054080963134766,
          52.12544631958008,
          50.47864532470703,
          48.8477897644043,
          47.1746826171875,
          45.464996337890625,
          43.4869384765625,
          41.223838806152344,
          38.9472770690918,
          36.742557525634766,
          34.405181884765625,
          31.944028854370117,
          29.601350784301758,
          27.44356346130371,
          25.336950302124023,
          23.335596084594727,
          21.44737434387207,
          19.649948120117188,
          18.138118743896484,
          16.618635177612305,
          15.622225761413574,
          14.62582015991211,
          13.629409790039062,
          12.61281681060791,
          11.56649112701416,
          10.636027336120605,
          9.823223114013672,
          9.010417938232422,
          8.343194961547852,
          7.784063816070557,
          7.238743782043457,
          6.705257415771484,
          6.248727321624756,
          5.7998738288879395,
          5.351020336151123,
          5.027712345123291,
          4.742019176483154,
          4.456326961517334,
          4.170633316040039,
          3.8849422931671143,
          3.419292449951172,
          2.948620319366455,
          2.477950096130371,
          2.011164426803589,
          1.5538582801818848,
          1.0965555906295776,
          0.6392489671707153,
          0.18194618821144104,
          0,
          0,
          0,
          0,
          0,
          0,
          0,
          0,
          0,
          0,
          0,
          0,
          0,
          0,
          0,
          0,
          0,
          0,
          0,
          0,
          0,
          0,
          0,
          0,
          0,
          0,
          0,
          0,
          0,
          0,
          0,
          0,
          0,
          0,
          0,
          0,
          0,
          0,
          0.047777920961380005,
          0.2680491507053375,
          0.48831942677497864
         ],
         "yaxis": "y"
        },
        {
         "name": "Revenue",
         "type": "scatter",
         "x": {
          "bdata": "AAAAAAAASUBGF1100UVLQIwuuuiii01A0kUXXXTRT0CMLrroogtRQC+66KKLLlJA0kUXXXRRU0B00UUXXXRUQBhddNFFl1VAuuiiiy66VkBedNFFF91XQAAAAAAAAFlAo4suuugiWkBGF1100UVbQOmiiy66aFxAjC666KKLXUAvuuiii65eQNJFF1100V9Auuiiiy56YECMLrroogthQF500UUXnWFAL7rooosuYkAAAAAAAMBiQNJFF110UWNAo4suuujiY0B00UUXXXRkQEYXXXTRBWVAGF100UWXZUDpoosuuihmQLvooosuumZAjC666KJLZ0BedNFFF91nQC+66KKLbmhAAAAAAAAAaUDSRRdddJFpQKOLLrroImpAddFFF120akBGF1100UVrQBhddNFF12tA6aKLLrpobEC76KKLLvpsQIwuuuiii21AXnTRRRcdbkAvuuiii65uQAEAAAAAQG9A0kUXXXTRb0DSRRdddDFwQLrooosuenBAo4suuujCcECMLrroogtxQHTRRRddVHFAXnTRRRedcUBGF1100eVxQC+66KKLLnJAGF100UV3ckAAAAAAAMByQOmiiy66CHNA0kUXXXRRc0C76KKLLppzQKOLLrro4nNAjC666KIrdEB10UUXXXR0QF500UUXvXRARhdddNEFdUAvuuiii051QBhddNFFl3VAAAAAAADgdUDpoosuuih2QNJFF110cXZAu+iiiy66dkCjiy666AJ3QIwuuuiiS3dAddFFF12Ud0BedNFFF913QEYXXXTRJXhAL7roootueEAYXXTRRbd4QAEAAAAAAHlA6aKLLrpIeUDSRRdddJF5QLvooosu2nlAo4suuugiekCMLrroomt6QHXRRRddtHpAXnTRRRf9ekBGF1100UV7QC+66KKLjntAGF100UXXe0ABAAAAACB8QOmiiy66aHxA0kUXXXSxfEC76KKLLvp8QKSLLrroQn1AjC666KKLfUB10UUXXdR9QF500UUXHX5ARhdddNFlfkAvuuiii65+QBhddNFF935AAAAAAABAf0A=",
          "dtype": "f8"
         },
         "xaxis": "x2",
         "y": [
          3532.159423828125,
          3801.5163074840198,
          4059.525888616389,
          4296.723660555753,
          4518.685080788353,
          4712.57157759233,
          4881.263212724166,
          5022.365570068359,
          5144.338503750889,
          5249.6629194779825,
          5339.9583643133,
          5405.408096313477,
          5449.4784788651905,
          5506.761308149858,
          5550.885200500488,
          5575.189763849432,
          5579.795005104759,
          5534.701260653409,
          5434.051478992808,
          5310.992327603427,
          5177.360378612172,
          5004.390092329546,
          4791.604328155518,
          4574.754212119363,
          4366.021459752863,
          4146.04641307484,
          3924.622977863659,
          3704.5464775779037,
          3483.3998940207744,
          3297.839771617543,
          3097.1092831004753,
          2982.4249180880465,
          2858.683031255549,
          2725.8819580078125,
          2579.8943476243453,
          2418.4481447393246,
          2272.242203625766,
          2143.248679421165,
          2006.8658135154033,
          1896.1806730790572,
          1804.4875209981747,
          1710.9758030284536,
          1615.3574683449488,
          1533.7785243988037,
          1449.968457221985,
          1362.0779037475586,
          1302.63456214558,
          1250.1686919819224,
          1195.105866952376,
          1137.4454498291016,
          1077.1885449236088,
          963.6187813498759,
          844.3776369094849,
          720.8582097833807,
          594.2076715556059,
          466.15748405456543,
          333.9510207826441,
          197.58604439822113,
          57.06494084813379,
          0,
          0,
          0,
          0,
          0,
          0,
          0,
          0,
          0,
          0,
          0,
          0,
          0,
          0,
          0,
          0,
          0,
          0,
          0,
          0,
          0,
          0,
          0,
          0,
          0,
          0,
          0,
          0,
          0,
          0,
          0,
          0,
          0,
          0,
          0,
          0,
          0,
          0,
          23.454615744677458,
          132.80617012218997,
          244.15971338748932
         ],
         "yaxis": "y2"
        }
       ],
       "layout": {
        "annotations": [
         {
          "font": {
           "size": 16
          },
          "showarrow": false,
          "text": "Demand Curve for 2024-07-26",
          "x": 0.225,
          "xanchor": "center",
          "xref": "paper",
          "y": 1,
          "yanchor": "bottom",
          "yref": "paper"
         },
         {
          "font": {
           "size": 16
          },
          "showarrow": false,
          "text": "Revenue Curve for 2024-07-26",
          "x": 0.775,
          "xanchor": "center",
          "xref": "paper",
          "y": 1,
          "yanchor": "bottom",
          "yref": "paper"
         },
         {
          "showarrow": false,
          "text": "Optimal Price: $122.73<br>Max Revenue: $5579.80",
          "x": 122.72727272727273,
          "xanchor": "left",
          "xref": "x2",
          "y": 1,
          "yanchor": "top",
          "yref": "y2 domain"
         }
        ],
        "height": 400,
        "shapes": [
         {
          "line": {
           "color": "red",
           "dash": "dash"
          },
          "type": "line",
          "x0": 122.72727272727273,
          "x1": 122.72727272727273,
          "xref": "x2",
          "y0": 0,
          "y1": 1,
          "yref": "y2 domain"
         }
        ],
        "showlegend": true,
        "template": {
         "data": {
          "bar": [
           {
            "error_x": {
             "color": "#2a3f5f"
            },
            "error_y": {
             "color": "#2a3f5f"
            },
            "marker": {
             "line": {
              "color": "#E5ECF6",
              "width": 0.5
             },
             "pattern": {
              "fillmode": "overlay",
              "size": 10,
              "solidity": 0.2
             }
            },
            "type": "bar"
           }
          ],
          "barpolar": [
           {
            "marker": {
             "line": {
              "color": "#E5ECF6",
              "width": 0.5
             },
             "pattern": {
              "fillmode": "overlay",
              "size": 10,
              "solidity": 0.2
             }
            },
            "type": "barpolar"
           }
          ],
          "carpet": [
           {
            "aaxis": {
             "endlinecolor": "#2a3f5f",
             "gridcolor": "white",
             "linecolor": "white",
             "minorgridcolor": "white",
             "startlinecolor": "#2a3f5f"
            },
            "baxis": {
             "endlinecolor": "#2a3f5f",
             "gridcolor": "white",
             "linecolor": "white",
             "minorgridcolor": "white",
             "startlinecolor": "#2a3f5f"
            },
            "type": "carpet"
           }
          ],
          "choropleth": [
           {
            "colorbar": {
             "outlinewidth": 0,
             "ticks": ""
            },
            "type": "choropleth"
           }
          ],
          "contour": [
           {
            "colorbar": {
             "outlinewidth": 0,
             "ticks": ""
            },
            "colorscale": [
             [
              0,
              "#0d0887"
             ],
             [
              0.1111111111111111,
              "#46039f"
             ],
             [
              0.2222222222222222,
              "#7201a8"
             ],
             [
              0.3333333333333333,
              "#9c179e"
             ],
             [
              0.4444444444444444,
              "#bd3786"
             ],
             [
              0.5555555555555556,
              "#d8576b"
             ],
             [
              0.6666666666666666,
              "#ed7953"
             ],
             [
              0.7777777777777778,
              "#fb9f3a"
             ],
             [
              0.8888888888888888,
              "#fdca26"
             ],
             [
              1,
              "#f0f921"
             ]
            ],
            "type": "contour"
           }
          ],
          "contourcarpet": [
           {
            "colorbar": {
             "outlinewidth": 0,
             "ticks": ""
            },
            "type": "contourcarpet"
           }
          ],
          "heatmap": [
           {
            "colorbar": {
             "outlinewidth": 0,
             "ticks": ""
            },
            "colorscale": [
             [
              0,
              "#0d0887"
             ],
             [
              0.1111111111111111,
              "#46039f"
             ],
             [
              0.2222222222222222,
              "#7201a8"
             ],
             [
              0.3333333333333333,
              "#9c179e"
             ],
             [
              0.4444444444444444,
              "#bd3786"
             ],
             [
              0.5555555555555556,
              "#d8576b"
             ],
             [
              0.6666666666666666,
              "#ed7953"
             ],
             [
              0.7777777777777778,
              "#fb9f3a"
             ],
             [
              0.8888888888888888,
              "#fdca26"
             ],
             [
              1,
              "#f0f921"
             ]
            ],
            "type": "heatmap"
           }
          ],
          "histogram": [
           {
            "marker": {
             "pattern": {
              "fillmode": "overlay",
              "size": 10,
              "solidity": 0.2
             }
            },
            "type": "histogram"
           }
          ],
          "histogram2d": [
           {
            "colorbar": {
             "outlinewidth": 0,
             "ticks": ""
            },
            "colorscale": [
             [
              0,
              "#0d0887"
             ],
             [
              0.1111111111111111,
              "#46039f"
             ],
             [
              0.2222222222222222,
              "#7201a8"
             ],
             [
              0.3333333333333333,
              "#9c179e"
             ],
             [
              0.4444444444444444,
              "#bd3786"
             ],
             [
              0.5555555555555556,
              "#d8576b"
             ],
             [
              0.6666666666666666,
              "#ed7953"
             ],
             [
              0.7777777777777778,
              "#fb9f3a"
             ],
             [
              0.8888888888888888,
              "#fdca26"
             ],
             [
              1,
              "#f0f921"
             ]
            ],
            "type": "histogram2d"
           }
          ],
          "histogram2dcontour": [
           {
            "colorbar": {
             "outlinewidth": 0,
             "ticks": ""
            },
            "colorscale": [
             [
              0,
              "#0d0887"
             ],
             [
              0.1111111111111111,
              "#46039f"
             ],
             [
              0.2222222222222222,
              "#7201a8"
             ],
             [
              0.3333333333333333,
              "#9c179e"
             ],
             [
              0.4444444444444444,
              "#bd3786"
             ],
             [
              0.5555555555555556,
              "#d8576b"
             ],
             [
              0.6666666666666666,
              "#ed7953"
             ],
             [
              0.7777777777777778,
              "#fb9f3a"
             ],
             [
              0.8888888888888888,
              "#fdca26"
             ],
             [
              1,
              "#f0f921"
             ]
            ],
            "type": "histogram2dcontour"
           }
          ],
          "mesh3d": [
           {
            "colorbar": {
             "outlinewidth": 0,
             "ticks": ""
            },
            "type": "mesh3d"
           }
          ],
          "parcoords": [
           {
            "line": {
             "colorbar": {
              "outlinewidth": 0,
              "ticks": ""
             }
            },
            "type": "parcoords"
           }
          ],
          "pie": [
           {
            "automargin": true,
            "type": "pie"
           }
          ],
          "scatter": [
           {
            "fillpattern": {
             "fillmode": "overlay",
             "size": 10,
             "solidity": 0.2
            },
            "type": "scatter"
           }
          ],
          "scatter3d": [
           {
            "line": {
             "colorbar": {
              "outlinewidth": 0,
              "ticks": ""
             }
            },
            "marker": {
             "colorbar": {
              "outlinewidth": 0,
              "ticks": ""
             }
            },
            "type": "scatter3d"
           }
          ],
          "scattercarpet": [
           {
            "marker": {
             "colorbar": {
              "outlinewidth": 0,
              "ticks": ""
             }
            },
            "type": "scattercarpet"
           }
          ],
          "scattergeo": [
           {
            "marker": {
             "colorbar": {
              "outlinewidth": 0,
              "ticks": ""
             }
            },
            "type": "scattergeo"
           }
          ],
          "scattergl": [
           {
            "marker": {
             "colorbar": {
              "outlinewidth": 0,
              "ticks": ""
             }
            },
            "type": "scattergl"
           }
          ],
          "scattermap": [
           {
            "marker": {
             "colorbar": {
              "outlinewidth": 0,
              "ticks": ""
             }
            },
            "type": "scattermap"
           }
          ],
          "scattermapbox": [
           {
            "marker": {
             "colorbar": {
              "outlinewidth": 0,
              "ticks": ""
             }
            },
            "type": "scattermapbox"
           }
          ],
          "scatterpolar": [
           {
            "marker": {
             "colorbar": {
              "outlinewidth": 0,
              "ticks": ""
             }
            },
            "type": "scatterpolar"
           }
          ],
          "scatterpolargl": [
           {
            "marker": {
             "colorbar": {
              "outlinewidth": 0,
              "ticks": ""
             }
            },
            "type": "scatterpolargl"
           }
          ],
          "scatterternary": [
           {
            "marker": {
             "colorbar": {
              "outlinewidth": 0,
              "ticks": ""
             }
            },
            "type": "scatterternary"
           }
          ],
          "surface": [
           {
            "colorbar": {
             "outlinewidth": 0,
             "ticks": ""
            },
            "colorscale": [
             [
              0,
              "#0d0887"
             ],
             [
              0.1111111111111111,
              "#46039f"
             ],
             [
              0.2222222222222222,
              "#7201a8"
             ],
             [
              0.3333333333333333,
              "#9c179e"
             ],
             [
              0.4444444444444444,
              "#bd3786"
             ],
             [
              0.5555555555555556,
              "#d8576b"
             ],
             [
              0.6666666666666666,
              "#ed7953"
             ],
             [
              0.7777777777777778,
              "#fb9f3a"
             ],
             [
              0.8888888888888888,
              "#fdca26"
             ],
             [
              1,
              "#f0f921"
             ]
            ],
            "type": "surface"
           }
          ],
          "table": [
           {
            "cells": {
             "fill": {
              "color": "#EBF0F8"
             },
             "line": {
              "color": "white"
             }
            },
            "header": {
             "fill": {
              "color": "#C8D4E3"
             },
             "line": {
              "color": "white"
             }
            },
            "type": "table"
           }
          ]
         },
         "layout": {
          "annotationdefaults": {
           "arrowcolor": "#2a3f5f",
           "arrowhead": 0,
           "arrowwidth": 1
          },
          "autotypenumbers": "strict",
          "coloraxis": {
           "colorbar": {
            "outlinewidth": 0,
            "ticks": ""
           }
          },
          "colorscale": {
           "diverging": [
            [
             0,
             "#8e0152"
            ],
            [
             0.1,
             "#c51b7d"
            ],
            [
             0.2,
             "#de77ae"
            ],
            [
             0.3,
             "#f1b6da"
            ],
            [
             0.4,
             "#fde0ef"
            ],
            [
             0.5,
             "#f7f7f7"
            ],
            [
             0.6,
             "#e6f5d0"
            ],
            [
             0.7,
             "#b8e186"
            ],
            [
             0.8,
             "#7fbc41"
            ],
            [
             0.9,
             "#4d9221"
            ],
            [
             1,
             "#276419"
            ]
           ],
           "sequential": [
            [
             0,
             "#0d0887"
            ],
            [
             0.1111111111111111,
             "#46039f"
            ],
            [
             0.2222222222222222,
             "#7201a8"
            ],
            [
             0.3333333333333333,
             "#9c179e"
            ],
            [
             0.4444444444444444,
             "#bd3786"
            ],
            [
             0.5555555555555556,
             "#d8576b"
            ],
            [
             0.6666666666666666,
             "#ed7953"
            ],
            [
             0.7777777777777778,
             "#fb9f3a"
            ],
            [
             0.8888888888888888,
             "#fdca26"
            ],
            [
             1,
             "#f0f921"
            ]
           ],
           "sequentialminus": [
            [
             0,
             "#0d0887"
            ],
            [
             0.1111111111111111,
             "#46039f"
            ],
            [
             0.2222222222222222,
             "#7201a8"
            ],
            [
             0.3333333333333333,
             "#9c179e"
            ],
            [
             0.4444444444444444,
             "#bd3786"
            ],
            [
             0.5555555555555556,
             "#d8576b"
            ],
            [
             0.6666666666666666,
             "#ed7953"
            ],
            [
             0.7777777777777778,
             "#fb9f3a"
            ],
            [
             0.8888888888888888,
             "#fdca26"
            ],
            [
             1,
             "#f0f921"
            ]
           ]
          },
          "colorway": [
           "#636efa",
           "#EF553B",
           "#00cc96",
           "#ab63fa",
           "#FFA15A",
           "#19d3f3",
           "#FF6692",
           "#B6E880",
           "#FF97FF",
           "#FECB52"
          ],
          "font": {
           "color": "#2a3f5f"
          },
          "geo": {
           "bgcolor": "white",
           "lakecolor": "white",
           "landcolor": "#E5ECF6",
           "showlakes": true,
           "showland": true,
           "subunitcolor": "white"
          },
          "hoverlabel": {
           "align": "left"
          },
          "hovermode": "closest",
          "mapbox": {
           "style": "light"
          },
          "paper_bgcolor": "white",
          "plot_bgcolor": "#E5ECF6",
          "polar": {
           "angularaxis": {
            "gridcolor": "white",
            "linecolor": "white",
            "ticks": ""
           },
           "bgcolor": "#E5ECF6",
           "radialaxis": {
            "gridcolor": "white",
            "linecolor": "white",
            "ticks": ""
           }
          },
          "scene": {
           "xaxis": {
            "backgroundcolor": "#E5ECF6",
            "gridcolor": "white",
            "gridwidth": 2,
            "linecolor": "white",
            "showbackground": true,
            "ticks": "",
            "zerolinecolor": "white"
           },
           "yaxis": {
            "backgroundcolor": "#E5ECF6",
            "gridcolor": "white",
            "gridwidth": 2,
            "linecolor": "white",
            "showbackground": true,
            "ticks": "",
            "zerolinecolor": "white"
           },
           "zaxis": {
            "backgroundcolor": "#E5ECF6",
            "gridcolor": "white",
            "gridwidth": 2,
            "linecolor": "white",
            "showbackground": true,
            "ticks": "",
            "zerolinecolor": "white"
           }
          },
          "shapedefaults": {
           "line": {
            "color": "#2a3f5f"
           }
          },
          "ternary": {
           "aaxis": {
            "gridcolor": "white",
            "linecolor": "white",
            "ticks": ""
           },
           "baxis": {
            "gridcolor": "white",
            "linecolor": "white",
            "ticks": ""
           },
           "bgcolor": "#E5ECF6",
           "caxis": {
            "gridcolor": "white",
            "linecolor": "white",
            "ticks": ""
           }
          },
          "title": {
           "x": 0.05
          },
          "xaxis": {
           "automargin": true,
           "gridcolor": "white",
           "linecolor": "white",
           "ticks": "",
           "title": {
            "standoff": 15
           },
           "zerolinecolor": "white",
           "zerolinewidth": 2
          },
          "yaxis": {
           "automargin": true,
           "gridcolor": "white",
           "linecolor": "white",
           "ticks": "",
           "title": {
            "standoff": 15
           },
           "zerolinecolor": "white",
           "zerolinewidth": 2
          }
         }
        },
        "width": 1000,
        "xaxis": {
         "anchor": "y",
         "domain": [
          0,
          0.45
         ],
         "title": {
          "text": "Price ($)"
         }
        },
        "xaxis2": {
         "anchor": "y2",
         "domain": [
          0.55,
          1
         ],
         "title": {
          "text": "Price ($)"
         }
        },
        "yaxis": {
         "anchor": "x",
         "domain": [
          0,
          1
         ],
         "title": {
          "text": "Predicted Bookings"
         }
        },
        "yaxis2": {
         "anchor": "x2",
         "domain": [
          0,
          1
         ],
         "title": {
          "text": "Predicted Revenue ($)"
         }
        }
       }
      }
     },
     "metadata": {},
     "output_type": "display_data"
    }
   ],
   "source": [
    "# Example: Find the optimal price for a weekend in the summer\n",
    "print(\"\\n--- Optimizing Revenue for a Specific Day ---\")\n",
    "plot_demand_revenue_curve(\n",
    "    date_str=\"2024-07-26\",  # A Friday in summer\n",
    "    lead_time=10,  # 30 days in advance\n",
    "    available_rooms=60,  # 80 rooms available\n",
    "    model=final_model,\n",
    "    scaler=final_scaler,\n",
    "    device=device,\n",
    ")"
   ]
  },
  {
   "cell_type": "markdown",
   "metadata": {},
   "source": [
    "### **reinforcement learning agent**\n",
    "\n",
    "The model is also trained. final_model"
   ]
  },
  {
   "cell_type": "markdown",
   "metadata": {},
   "source": [
    "##### Reinforcement Learning Environment definition\n",
    "\n",
    "This class will simulate the booking process for a single check-in date. The RL agent will interact with this environment by setting prices, and the environment will use your trained model to predict how many bookings are made at that price, returning the resulting revenue as a reward."
   ]
  },
  {
   "cell_type": "code",
   "execution_count": 138,
   "metadata": {},
   "outputs": [],
   "source": [
    "class HotelBookingEnv:\n",
    "    def __init__(self, demand_model, X_scaler, total_rooms=100, max_lead_time=59):\n",
    "        self.demand_model = demand_model\n",
    "        self.X_scaler = X_scaler  # We only need the one scaler for inputs\n",
    "        self.total_rooms = total_rooms\n",
    "        self.max_lead_time = max_lead_time\n",
    "\n",
    "        self.action_space = np.linspace(100, 500, 20)\n",
    "        self.num_actions = len(self.action_space)\n",
    "\n",
    "    def _predict_bookings(self, state, action):\n",
    "        price = self.action_space[action]\n",
    "        lead_time_days, available_rooms, day_of_week, month, _ = state\n",
    "\n",
    "        if available_rooms <= 0:\n",
    "            return 0\n",
    "\n",
    "        # Create input array with 5 features\n",
    "        input_features = np.array([[price, lead_time_days, available_rooms, day_of_week, month]])\n",
    "\n",
    "        # Scale inputs using the single scaler\n",
    "        input_scaled = self.X_scaler.transform(input_features)\n",
    "        input_tensor = torch.tensor(input_scaled, dtype=torch.float32)\n",
    "\n",
    "        with torch.no_grad():\n",
    "            # Get the direct, unscaled prediction from the model\n",
    "            predicted_bookings = self.demand_model(input_tensor).item()\n",
    "\n",
    "        # No y_scaler needed. Just ensure the value is a valid number of bookings.\n",
    "        num_bookings = min(available_rooms, max(0, int(predicted_bookings)))\n",
    "        return num_bookings\n",
    "\n",
    "    def reset(self, check_in_date=None):\n",
    "        if check_in_date is None:\n",
    "            self.check_in_date = pd.to_datetime(df[\"check_in_date\"].sample(1).iloc[0])\n",
    "        else:\n",
    "            self.check_in_date = pd.to_datetime(check_in_date)\n",
    "\n",
    "        self.lead_time = self.max_lead_time\n",
    "        self.available_rooms = self.total_rooms\n",
    "\n",
    "        self.state = [\n",
    "            self.lead_time,\n",
    "            self.available_rooms,\n",
    "            self.check_in_date.dayofweek,\n",
    "            self.check_in_date.month,\n",
    "            self.check_in_date.year,\n",
    "        ]\n",
    "        return self.state\n",
    "\n",
    "    def step(self, action):\n",
    "        num_bookings = self._predict_bookings(self.state, action)\n",
    "        price = self.action_space[action]\n",
    "        reward = price * num_bookings\n",
    "\n",
    "        self.available_rooms -= num_bookings\n",
    "        self.lead_time -= 1\n",
    "        self.state = [\n",
    "            self.lead_time,\n",
    "            self.available_rooms,\n",
    "            self.check_in_date.dayofweek,\n",
    "            self.check_in_date.month,\n",
    "            self.check_in_date.year,\n",
    "        ]\n",
    "\n",
    "        done = self.lead_time < 0 or self.available_rooms <= 0\n",
    "        return self.state, reward, done, {}"
   ]
  },
  {
   "cell_type": "markdown",
   "metadata": {},
   "source": [
    "##### QLearningAgent definition\n",
    "\n",
    "This agent will learn the optimal pricing strategy by interacting with the HotelBookingEnv you just created.\n",
    "It uses a Q-table to map states (specifically, how many days are left to book and how many rooms are available) to the expected long-term revenue of each possible pricing action."
   ]
  },
  {
   "cell_type": "code",
   "execution_count": 139,
   "metadata": {},
   "outputs": [],
   "source": [
    "class QLearningAgent:\n",
    "    def __init__(\n",
    "        self,\n",
    "        num_actions,\n",
    "        total_rooms,\n",
    "        max_lead_time,\n",
    "        learning_rate=0.1,\n",
    "        discount_factor=0.99,\n",
    "        epsilon=1.0,\n",
    "        epsilon_decay=0.999,\n",
    "        epsilon_min=0.01,\n",
    "    ):\n",
    "        self.num_actions = num_actions\n",
    "        self.total_rooms = total_rooms  # Store total_rooms\n",
    "        self.lr = learning_rate\n",
    "        self.gamma = discount_factor\n",
    "        self.epsilon = epsilon\n",
    "        self.epsilon_decay = epsilon_decay\n",
    "        self.epsilon_min = epsilon_min\n",
    "        self.room_bins = 10\n",
    "        self.q_table = np.zeros((max_lead_time + 1, self.room_bins, num_actions))\n",
    "\n",
    "    def _discretize_state(self, state):\n",
    "        lead_time, available_rooms, _, _, _ = state\n",
    "        # Convert continuous available_rooms into discrete bins\n",
    "        room_index = int(available_rooms / (self.total_rooms / self.room_bins))\n",
    "        room_index = min(self.room_bins - 1, max(0, room_index))\n",
    "        return (int(lead_time), room_index)\n",
    "\n",
    "    def choose_action(self, state):\n",
    "        discrete_state = self._discretize_state(state)\n",
    "        # Epsilon-greedy strategy\n",
    "        if np.random.rand() < self.epsilon:\n",
    "            return np.random.randint(self.num_actions)\n",
    "        else:\n",
    "            return np.argmax(self.q_table[discrete_state])\n",
    "\n",
    "    def update(self, state, action, reward, next_state, done):\n",
    "        discrete_state = self._discretize_state(state)\n",
    "        discrete_next_state = self._discretize_state(next_state)\n",
    "\n",
    "        old_value = self.q_table[discrete_state][action]\n",
    "        next_max = 0 if done else np.max(self.q_table[discrete_next_state])\n",
    "\n",
    "        new_value = old_value + self.lr * (reward + self.gamma * next_max - old_value)\n",
    "        self.q_table[discrete_state][action] = new_value\n",
    "\n",
    "        if self.epsilon > self.epsilon_min:\n",
    "            self.epsilon *= self.epsilon_decay"
   ]
  },
  {
   "cell_type": "markdown",
   "metadata": {},
   "source": [
    "##### training QLearningAgent"
   ]
  },
  {
   "cell_type": "code",
   "execution_count": 140,
   "metadata": {},
   "outputs": [
    {
     "name": "stdout",
     "output_type": "stream",
     "text": [
      "\n",
      "--- Training Reinforcement Learning Agent ---\n",
      "Episode 500/5000, Average Reward: 0.00, Epsilon: 0.01\n",
      "Episode 1000/5000, Average Reward: 0.00, Epsilon: 0.01\n",
      "Episode 1500/5000, Average Reward: 0.00, Epsilon: 0.01\n",
      "Episode 2000/5000, Average Reward: 0.00, Epsilon: 0.01\n",
      "Episode 2500/5000, Average Reward: 0.00, Epsilon: 0.01\n",
      "Episode 3000/5000, Average Reward: 0.00, Epsilon: 0.01\n",
      "Episode 3500/5000, Average Reward: 0.00, Epsilon: 0.01\n",
      "Episode 4000/5000, Average Reward: 0.00, Epsilon: 0.01\n",
      "Episode 4500/5000, Average Reward: 0.00, Epsilon: 0.01\n",
      "Episode 5000/5000, Average Reward: 0.00, Epsilon: 0.01\n"
     ]
    }
   ],
   "source": [
    "# --- Train the RL Agent (with single scaler) ---\n",
    "\n",
    "# Make sure 'final_model' and 'final_scaler' are from your training cell\n",
    "# The environment now only takes X_scaler (which is your final_scaler)\n",
    "env = HotelBookingEnv(\n",
    "    demand_model=final_model, \n",
    "    X_scaler=final_scaler,  # Pass your single scaler here\n",
    "    total_rooms=total_rooms, \n",
    "    max_lead_time=max_lead_time - 1\n",
    ")\n",
    "\n",
    "# The QLearningAgent class does not need changes, just initialize it\n",
    "agent = QLearningAgent(\n",
    "    num_actions=env.num_actions, \n",
    "    total_rooms=total_rooms, \n",
    "    max_lead_time=max_lead_time\n",
    ")\n",
    "\n",
    "episodes = 5000\n",
    "total_rewards = []\n",
    "\n",
    "print(\"\\n--- Training Reinforcement Learning Agent ---\")\n",
    "for episode in range(episodes):\n",
    "    state = env.reset()\n",
    "    done = False\n",
    "    episode_reward = 0\n",
    "\n",
    "    while not done:\n",
    "        action = agent.choose_action(state)\n",
    "        next_state, reward, done, _ = env.step(action)\n",
    "        agent.update(state, action, reward, next_state, done)\n",
    "\n",
    "        state = next_state\n",
    "        episode_reward += reward\n",
    "\n",
    "    total_rewards.append(episode_reward)\n",
    "\n",
    "    if (episode + 1) % 500 == 0:\n",
    "        avg_reward = np.mean(total_rewards[-500:])\n",
    "        print(f\"Episode {episode + 1}/{episodes}, Average Reward: {avg_reward:.2f}, Epsilon: {agent.epsilon:.2f}\")\n",
    "\n"
   ]
  },
  {
   "cell_type": "code",
   "execution_count": 141,
   "metadata": {},
   "outputs": [
    {
     "name": "stdout",
     "output_type": "stream",
     "text": [
      "\n",
      "--- Running Final Comparison Simulations ---\n",
      "\n",
      "Average RL Agent Revenue: $0.00\n",
      "Average Baseline (Greedy) Revenue: $0.00\n",
      "Baseline revenue was zero, cannot calculate improvement.\n"
     ]
    }
   ],
   "source": [
    "# --- Compare RL Agent vs. Baseline Strategy ---\n",
    "\n",
    "# Set the trained agent to exploitation mode (no more random actions)\n",
    "agent.epsilon = 0\n",
    "\n",
    "def run_simulation(env, policy, check_in_date):\n",
    "    \"\"\"Runs one full simulation for a given check-in date and policy.\"\"\"\n",
    "    state = env.reset(check_in_date=check_in_date)\n",
    "    done = False\n",
    "    total_revenue = 0\n",
    "    while not done:\n",
    "        action = policy(state)\n",
    "        next_state, reward, done, _ = env.step(action)\n",
    "        state = next_state\n",
    "        total_revenue += reward\n",
    "    return total_revenue\n",
    "\n",
    "# Define the two policies to compare\n",
    "\n",
    "def rl_policy(state):\n",
    "    \"\"\"The policy learned by our Q-learning agent.\"\"\"\n",
    "    return agent.choose_action(state)\n",
    "\n",
    "def baseline_greedy_policy(state):\n",
    "    \"\"\"A greedy policy that chooses the price with the highest *immediate* revenue.\"\"\"\n",
    "    best_action = -1\n",
    "    max_revenue = -1\n",
    "    # Check every possible price to see which one gives the best immediate reward\n",
    "    for action in range(env.num_actions):\n",
    "        price = env.action_space[action]\n",
    "        # Use the environment's internal prediction function\n",
    "        bookings = env._predict_bookings(state, action)\n",
    "        revenue = price * bookings\n",
    "        if revenue > max_revenue:\n",
    "            max_revenue = revenue\n",
    "            best_action = action\n",
    "    return best_action\n",
    "\n",
    "# --- Run the Comparison ---\n",
    "# Use the last 20 unique dates from the dataset as a held-out test set\n",
    "test_dates = df['check_in_date'].unique()[-20:]\n",
    "\n",
    "rl_revenues = []\n",
    "baseline_revenues = []\n",
    "\n",
    "# Make sure to use the correct single scaler ('final_scaler' or whatever you named it)\n",
    "env = HotelBookingEnv(\n",
    "    demand_model=final_model, \n",
    "    X_scaler=final_scaler, \n",
    "    total_rooms=total_rooms, \n",
    "    max_lead_time=max_lead_time - 1\n",
    ")\n",
    "\n",
    "print('\\n--- Running Final Comparison Simulations ---')\n",
    "for date in test_dates:\n",
    "    # Run a simulation for each policy on the same date\n",
    "    rl_revenue = run_simulation(env, rl_policy, date)\n",
    "    baseline_revenue = run_simulation(env, baseline_greedy_policy, date)\n",
    "    \n",
    "    rl_revenues.append(rl_revenue)\n",
    "    baseline_revenues.append(baseline_revenue)\n",
    "\n",
    "# --- Report Results ---\n",
    "avg_rl_revenue = np.mean(rl_revenues)\n",
    "avg_baseline_revenue = np.mean(baseline_revenues)\n",
    "\n",
    "print(f'\\nAverage RL Agent Revenue: ${avg_rl_revenue:,.2f}')\n",
    "print(f'Average Baseline (Greedy) Revenue: ${avg_baseline_revenue:,.2f}')\n",
    "\n",
    "if avg_baseline_revenue > 0:\n",
    "    improvement = (avg_rl_revenue - avg_baseline_revenue) / avg_baseline_revenue * 100\n",
    "    print(f'Improvement: {improvement:.2f}%')\n",
    "else:\n",
    "    print(\"Baseline revenue was zero, cannot calculate improvement.\")\n"
   ]
  }
 ],
 "metadata": {
  "kernelspec": {
   "display_name": ".venv",
   "language": "python",
   "name": "python3"
  },
  "language_info": {
   "codemirror_mode": {
    "name": "ipython",
    "version": 3
   },
   "file_extension": ".py",
   "mimetype": "text/x-python",
   "name": "python",
   "nbconvert_exporter": "python",
   "pygments_lexer": "ipython3",
   "version": "3.12.9"
  }
 },
 "nbformat": 4,
 "nbformat_minor": 2
}
